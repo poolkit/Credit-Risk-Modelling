{
 "cells": [
  {
   "cell_type": "code",
   "execution_count": 1,
   "metadata": {},
   "outputs": [],
   "source": [
    "import pandas as pd\n",
    "import numpy as np\n",
    "import matplotlib.pyplot as plt\n",
    "import seaborn as sns\n",
    "import pickle\n",
    "\n",
    "from sklearn.model_selection import train_test_split\n",
    "pd.set_option('display.max_column', 500)"
   ]
  },
  {
   "cell_type": "code",
   "execution_count": 2,
   "metadata": {},
   "outputs": [
    {
     "data": {
      "text/plain": [
       "(101503, 11)"
      ]
     },
     "execution_count": 2,
     "metadata": {},
     "output_type": "execute_result"
    }
   ],
   "source": [
    "test = pd.read_csv('data/cs-test.csv', index_col=0)\n",
    "test.shape"
   ]
  },
  {
   "cell_type": "code",
   "execution_count": 34,
   "metadata": {},
   "outputs": [],
   "source": [
    "with open('saved/variables.obj', 'rb') as f:\n",
    "    variables = pickle.load(f)\n",
    "    \n",
    "with open('saved/scaler.obj', 'rb') as f:\n",
    "    scaler = pickle.load(f)\n",
    "    \n",
    "with open('saved/logistic_model.obj', 'rb') as f:\n",
    "    lr = pickle.load(f)"
   ]
  },
  {
   "cell_type": "code",
   "execution_count": 4,
   "metadata": {},
   "outputs": [],
   "source": [
    "test.drop('SeriousDlqin2yrs', axis=1, inplace=True)"
   ]
  },
  {
   "cell_type": "code",
   "execution_count": 5,
   "metadata": {},
   "outputs": [
    {
     "data": {
      "text/plain": [
       "RevolvingUtilizationOfUnsecuredLines        0\n",
       "age                                         0\n",
       "NumberOfTime30-59DaysPastDueNotWorse        0\n",
       "DebtRatio                                   0\n",
       "MonthlyIncome                           20103\n",
       "NumberOfOpenCreditLinesAndLoans             0\n",
       "NumberOfTimes90DaysLate                     0\n",
       "NumberRealEstateLoansOrLines                0\n",
       "NumberOfTime60-89DaysPastDueNotWorse        0\n",
       "NumberOfDependents                       2626\n",
       "dtype: int64"
      ]
     },
     "execution_count": 5,
     "metadata": {},
     "output_type": "execute_result"
    }
   ],
   "source": [
    "test.isnull().sum()"
   ]
  },
  {
   "cell_type": "code",
   "execution_count": 6,
   "metadata": {},
   "outputs": [],
   "source": [
    "test['RevolvingUtilizationOfUnsecuredLines'] = np.minimum(test['RevolvingUtilizationOfUnsecuredLines'], 1)"
   ]
  },
  {
   "cell_type": "code",
   "execution_count": 7,
   "metadata": {},
   "outputs": [],
   "source": [
    "def RevolvingUtilizationOfUnsecuredLines(data):\n",
    "    conditions = [\n",
    "        (data['RevolvingUtilizationOfUnsecuredLines'] <= 0.3),\n",
    "        (data['RevolvingUtilizationOfUnsecuredLines']> 0.3) & (data['RevolvingUtilizationOfUnsecuredLines'] <=0.7),\n",
    "        (data['RevolvingUtilizationOfUnsecuredLines'] > 0.7)\n",
    "    ]\n",
    "    bin_labels = ['Good', 'Average', 'Bad']\n",
    "\n",
    "    data['CreditUtility'] = np.select(conditions, bin_labels, default='Unknown')\n",
    "    return None\n",
    "\n",
    "RevolvingUtilizationOfUnsecuredLines(test)"
   ]
  },
  {
   "cell_type": "code",
   "execution_count": 8,
   "metadata": {},
   "outputs": [],
   "source": [
    "def age(data):\n",
    "    conditions = [\n",
    "        (data['age'] <= 30),\n",
    "        (data['age'] >30) & (data['age'] <=40),\n",
    "        (data['age'] >40) & (data['age'] <=50),\n",
    "        (data['age'] >50) & (data['age'] <=60),\n",
    "        (data['age'] >60) & (data['age'] <=70),\n",
    "        (data['age'] >70)\n",
    "    ]\n",
    "    bin_labels = ['Below30', '30-40', '40-50', '50-60', '60-70', 'Above70']\n",
    "\n",
    "    data['Age'] = np.select(conditions, bin_labels, default='Unknown')\n",
    "    return None\n",
    "\n",
    "age(test)"
   ]
  },
  {
   "cell_type": "code",
   "execution_count": 9,
   "metadata": {},
   "outputs": [],
   "source": [
    "def NumberOfTime3059DaysPastDueNotWorse(data):\n",
    "    conditions = [\n",
    "        (data['NumberOfTime30-59DaysPastDueNotWorse'] == 0),\n",
    "        (data['NumberOfTime30-59DaysPastDueNotWorse'] >=1) & (data['NumberOfTime30-59DaysPastDueNotWorse'] <=2),\n",
    "        (data['NumberOfTime30-59DaysPastDueNotWorse'] >2) & (data['NumberOfTime30-59DaysPastDueNotWorse'] <=5),\n",
    "        (data['NumberOfTime30-59DaysPastDueNotWorse'] >5) & (data['NumberOfTime30-59DaysPastDueNotWorse'] <=10),\n",
    "        (data['NumberOfTime30-59DaysPastDueNotWorse'] >10)\n",
    "    ]\n",
    "    bin_labels = ['No', 'Rare', 'Ocassional', 'Frequent', 'Very-Frequent']\n",
    "\n",
    "    data['30-59DaysLatePayment'] = np.select(conditions, bin_labels, default='Unknown')\n",
    "    return None\n",
    "\n",
    "NumberOfTime3059DaysPastDueNotWorse(test)"
   ]
  },
  {
   "cell_type": "code",
   "execution_count": 10,
   "metadata": {},
   "outputs": [],
   "source": [
    "def DebtRatio(data):\n",
    "    conditions = [\n",
    "        (data['DebtRatio'] <= 0.3),\n",
    "        (data['DebtRatio'] >0.3) & (data['DebtRatio'] <=1),\n",
    "        (data['DebtRatio'] >1)\n",
    "    ]\n",
    "    bin_labels = ['Low-Debt', 'Moderate-Debt', 'High-Debt']\n",
    "\n",
    "    data['Debt'] = np.select(conditions, bin_labels, default='Unknown')\n",
    "    return None\n",
    "\n",
    "DebtRatio(test)"
   ]
  },
  {
   "cell_type": "code",
   "execution_count": 14,
   "metadata": {},
   "outputs": [],
   "source": [
    "test['MonthlyIncome'].fillna(variables['MonthlyIncomeMedian'], inplace=True)\n",
    "\n",
    "def MonthlyIncome(data):\n",
    "    conditions = [\n",
    "        (data['MonthlyIncome'] <= 1000),\n",
    "        (data['MonthlyIncome'] >1000) & (data['MonthlyIncome'] <=4000),\n",
    "        (data['MonthlyIncome'] >4000) & (data['MonthlyIncome'] <=7000),\n",
    "        (data['MonthlyIncome'] >7000) & (data['MonthlyIncome'] <=10000),\n",
    "        (data['MonthlyIncome'] >10000) & (data['MonthlyIncome'] <=15000),\n",
    "        (data['MonthlyIncome'] >15000)\n",
    "    ]\n",
    "    bin_labels = ['Low-Income', 'Moderate-Income', 'Middle-Income', 'Upper-Middle-Income', 'High-Income', 'Rich']\n",
    "\n",
    "    data['Monthly-Income'] = np.select(conditions, bin_labels, default='Unknown')\n",
    "    return None\n",
    "\n",
    "MonthlyIncome(test)"
   ]
  },
  {
   "cell_type": "code",
   "execution_count": 15,
   "metadata": {},
   "outputs": [],
   "source": [
    "def NumberOfOpenCreditLinesAndLoans(data):\n",
    "    conditions = [\n",
    "        (data['NumberOfOpenCreditLinesAndLoans'] <= 2),\n",
    "        (data['NumberOfOpenCreditLinesAndLoans'] >2) & (data['NumberOfOpenCreditLinesAndLoans'] <=5),\n",
    "        (data['NumberOfOpenCreditLinesAndLoans'] >5) & (data['NumberOfOpenCreditLinesAndLoans'] <=10),\n",
    "        (data['NumberOfOpenCreditLinesAndLoans'] >10) & (data['NumberOfOpenCreditLinesAndLoans'] <=15),\n",
    "        (data['NumberOfOpenCreditLinesAndLoans'] >15)\n",
    "    ]\n",
    "    bin_labels = ['Few', 'Moderate', 'Many', 'Numerous', 'Extensive']\n",
    "\n",
    "    data['OpenCreditLines'] = np.select(conditions, bin_labels, default='Unknown')\n",
    "    return None\n",
    "\n",
    "NumberOfOpenCreditLinesAndLoans(test)"
   ]
  },
  {
   "cell_type": "code",
   "execution_count": 16,
   "metadata": {},
   "outputs": [],
   "source": [
    "def NumberOfTimes90DaysLate(data):\n",
    "    conditions = [\n",
    "        (data['NumberOfTimes90DaysLate'] == 0),\n",
    "        (data['NumberOfTimes90DaysLate'] >=1) & (data['NumberOfTimes90DaysLate'] <=2),\n",
    "        (data['NumberOfTimes90DaysLate'] >2) & (data['NumberOfTimes90DaysLate'] <=5),\n",
    "        (data['NumberOfTimes90DaysLate'] >5) & (data['NumberOfTimes90DaysLate'] <=10),\n",
    "        (data['NumberOfTimes90DaysLate'] >10)\n",
    "    ]\n",
    "    bin_labels = ['No', 'Rare', 'Ocassional', 'Frequent', 'Very-Frequent']\n",
    "\n",
    "    data['90DaysLatePayment'] = np.select(conditions, bin_labels, default='Unknown')\n",
    "    return None\n",
    "\n",
    "NumberOfTimes90DaysLate(test)"
   ]
  },
  {
   "cell_type": "code",
   "execution_count": 17,
   "metadata": {},
   "outputs": [],
   "source": [
    "def NumberRealEstateLoansOrLines(data):\n",
    "    conditions = [\n",
    "        (data['NumberRealEstateLoansOrLines'] == 0),\n",
    "        (data['NumberRealEstateLoansOrLines'] >=1) & (data['NumberRealEstateLoansOrLines'] <=2),\n",
    "        (data['NumberRealEstateLoansOrLines'] >2) & (data['NumberRealEstateLoansOrLines'] <=4),\n",
    "        (data['NumberRealEstateLoansOrLines'] >4) & (data['NumberRealEstateLoansOrLines'] <=7),\n",
    "        (data['NumberRealEstateLoansOrLines'] >7)\n",
    "    ]\n",
    "    bin_labels = ['No-Estate-Loans', 'Low-Estate-Loans', 'Moderate-Estate-Loans', 'High-Estate-Loans', 'Very-High-Estate-Loans']\n",
    "\n",
    "    data['RealEstateLoans'] = np.select(conditions, bin_labels, default='Unknown')\n",
    "    return None\n",
    "\n",
    "NumberRealEstateLoansOrLines(test)"
   ]
  },
  {
   "cell_type": "code",
   "execution_count": 18,
   "metadata": {},
   "outputs": [],
   "source": [
    "def NumberOfTime6089DaysPastDueNotWorse(data):\n",
    "    conditions = [\n",
    "        (data['NumberOfTime60-89DaysPastDueNotWorse'] == 0),\n",
    "        (data['NumberOfTime60-89DaysPastDueNotWorse'] >=1) & (data['NumberOfTime60-89DaysPastDueNotWorse'] <=2),\n",
    "        (data['NumberOfTime60-89DaysPastDueNotWorse'] >2) & (data['NumberOfTime60-89DaysPastDueNotWorse'] <=5),\n",
    "        (data['NumberOfTime60-89DaysPastDueNotWorse'] >5)\n",
    "    ]\n",
    "    bin_labels = ['No', 'Rare', 'Ocassional', 'Frequent']\n",
    "\n",
    "    data['60-89DaysLatePayment'] = np.select(conditions, bin_labels, default='Unknown')\n",
    "    return None\n",
    "\n",
    "NumberOfTime6089DaysPastDueNotWorse(test)"
   ]
  },
  {
   "cell_type": "code",
   "execution_count": 21,
   "metadata": {},
   "outputs": [],
   "source": [
    "test['NumberOfDependents'].fillna(variables['DependentsMedian'], inplace=True)\n",
    "\n",
    "def NumberOfDependents(data):\n",
    "    conditions = [\n",
    "        (data['NumberOfDependents'] == 0),\n",
    "        (data['NumberOfDependents'] >0) & (data['NumberOfDependents'] <=2),\n",
    "        (data['NumberOfDependents'] >2) & (data['NumberOfDependents'] <=5),\n",
    "        (data['NumberOfDependents'] >5)\n",
    "    ]\n",
    "    bin_labels = ['No', 'Low', 'Moderate', 'High']\n",
    "\n",
    "    data['Dependents'] = np.select(conditions, bin_labels, default='Unknown')\n",
    "    return None\n",
    "\n",
    "NumberOfDependents(test)"
   ]
  },
  {
   "cell_type": "code",
   "execution_count": 25,
   "metadata": {},
   "outputs": [],
   "source": [
    "category_columns = ['CreditUtility', 'Age', '30-59DaysLatePayment', 'Debt', 'Monthly-Income', \n",
    "                    'OpenCreditLines', '90DaysLatePayment', 'RealEstateLoans', '60-89DaysLatePayment', 'Dependents']"
   ]
  },
  {
   "cell_type": "code",
   "execution_count": 26,
   "metadata": {},
   "outputs": [],
   "source": [
    "test = test[category_columns]"
   ]
  },
  {
   "cell_type": "code",
   "execution_count": 30,
   "metadata": {},
   "outputs": [
    {
     "name": "stderr",
     "output_type": "stream",
     "text": [
      "C:\\Users\\OMEN\\Anaconda3\\lib\\site-packages\\ipykernel_launcher.py:2: SettingWithCopyWarning: \n",
      "A value is trying to be set on a copy of a slice from a DataFrame.\n",
      "Try using .loc[row_indexer,col_indexer] = value instead\n",
      "\n",
      "See the caveats in the documentation: https://pandas.pydata.org/pandas-docs/stable/user_guide/indexing.html#returning-a-view-versus-a-copy\n",
      "  \n"
     ]
    }
   ],
   "source": [
    "for feature in category_columns:\n",
    "    test[feature] = test[feature].map(variables['WoEDict'][feature])"
   ]
  },
  {
   "cell_type": "code",
   "execution_count": 32,
   "metadata": {},
   "outputs": [
    {
     "name": "stderr",
     "output_type": "stream",
     "text": [
      "C:\\Users\\OMEN\\Anaconda3\\lib\\site-packages\\pandas\\core\\frame.py:3678: SettingWithCopyWarning: \n",
      "A value is trying to be set on a copy of a slice from a DataFrame.\n",
      "Try using .loc[row_indexer,col_indexer] = value instead\n",
      "\n",
      "See the caveats in the documentation: https://pandas.pydata.org/pandas-docs/stable/user_guide/indexing.html#returning-a-view-versus-a-copy\n",
      "  self[col] = igetitem(value, i)\n"
     ]
    }
   ],
   "source": [
    "test[category_columns] = scaler.transform(test[category_columns])"
   ]
  },
  {
   "cell_type": "code",
   "execution_count": 33,
   "metadata": {},
   "outputs": [
    {
     "data": {
      "text/html": [
       "<div>\n",
       "<style scoped>\n",
       "    .dataframe tbody tr th:only-of-type {\n",
       "        vertical-align: middle;\n",
       "    }\n",
       "\n",
       "    .dataframe tbody tr th {\n",
       "        vertical-align: top;\n",
       "    }\n",
       "\n",
       "    .dataframe thead th {\n",
       "        text-align: right;\n",
       "    }\n",
       "</style>\n",
       "<table border=\"1\" class=\"dataframe\">\n",
       "  <thead>\n",
       "    <tr style=\"text-align: right;\">\n",
       "      <th></th>\n",
       "      <th>CreditUtility</th>\n",
       "      <th>Age</th>\n",
       "      <th>30-59DaysLatePayment</th>\n",
       "      <th>Debt</th>\n",
       "      <th>Monthly-Income</th>\n",
       "      <th>OpenCreditLines</th>\n",
       "      <th>90DaysLatePayment</th>\n",
       "      <th>RealEstateLoans</th>\n",
       "      <th>60-89DaysLatePayment</th>\n",
       "      <th>Dependents</th>\n",
       "    </tr>\n",
       "  </thead>\n",
       "  <tbody>\n",
       "    <tr>\n",
       "      <th>1</th>\n",
       "      <td>0.000000</td>\n",
       "      <td>0.209404</td>\n",
       "      <td>1.000000</td>\n",
       "      <td>1.000000</td>\n",
       "      <td>0.491599</td>\n",
       "      <td>0.787668</td>\n",
       "      <td>1.0</td>\n",
       "      <td>0.658441</td>\n",
       "      <td>1.000000</td>\n",
       "      <td>1.000000</td>\n",
       "    </tr>\n",
       "    <tr>\n",
       "      <th>2</th>\n",
       "      <td>0.477796</td>\n",
       "      <td>0.398567</td>\n",
       "      <td>1.000000</td>\n",
       "      <td>0.000000</td>\n",
       "      <td>0.705646</td>\n",
       "      <td>0.862336</td>\n",
       "      <td>1.0</td>\n",
       "      <td>0.775963</td>\n",
       "      <td>1.000000</td>\n",
       "      <td>0.576829</td>\n",
       "    </tr>\n",
       "    <tr>\n",
       "      <th>3</th>\n",
       "      <td>1.000000</td>\n",
       "      <td>0.398567</td>\n",
       "      <td>1.000000</td>\n",
       "      <td>0.000000</td>\n",
       "      <td>0.491599</td>\n",
       "      <td>0.862336</td>\n",
       "      <td>1.0</td>\n",
       "      <td>1.000000</td>\n",
       "      <td>1.000000</td>\n",
       "      <td>0.576829</td>\n",
       "    </tr>\n",
       "    <tr>\n",
       "      <th>4</th>\n",
       "      <td>1.000000</td>\n",
       "      <td>0.101443</td>\n",
       "      <td>0.518855</td>\n",
       "      <td>0.000000</td>\n",
       "      <td>0.000000</td>\n",
       "      <td>1.000000</td>\n",
       "      <td>1.0</td>\n",
       "      <td>1.000000</td>\n",
       "      <td>1.000000</td>\n",
       "      <td>1.000000</td>\n",
       "    </tr>\n",
       "    <tr>\n",
       "      <th>5</th>\n",
       "      <td>0.000000</td>\n",
       "      <td>0.000000</td>\n",
       "      <td>1.000000</td>\n",
       "      <td>1.000000</td>\n",
       "      <td>0.000000</td>\n",
       "      <td>0.787668</td>\n",
       "      <td>1.0</td>\n",
       "      <td>0.658441</td>\n",
       "      <td>1.000000</td>\n",
       "      <td>0.576829</td>\n",
       "    </tr>\n",
       "    <tr>\n",
       "      <th>...</th>\n",
       "      <td>...</td>\n",
       "      <td>...</td>\n",
       "      <td>...</td>\n",
       "      <td>...</td>\n",
       "      <td>...</td>\n",
       "      <td>...</td>\n",
       "      <td>...</td>\n",
       "      <td>...</td>\n",
       "      <td>...</td>\n",
       "      <td>...</td>\n",
       "    </tr>\n",
       "    <tr>\n",
       "      <th>101499</th>\n",
       "      <td>1.000000</td>\n",
       "      <td>0.000000</td>\n",
       "      <td>1.000000</td>\n",
       "      <td>1.000000</td>\n",
       "      <td>0.000000</td>\n",
       "      <td>0.787668</td>\n",
       "      <td>1.0</td>\n",
       "      <td>0.658441</td>\n",
       "      <td>1.000000</td>\n",
       "      <td>1.000000</td>\n",
       "    </tr>\n",
       "    <tr>\n",
       "      <th>101500</th>\n",
       "      <td>0.000000</td>\n",
       "      <td>0.101443</td>\n",
       "      <td>0.207411</td>\n",
       "      <td>0.000000</td>\n",
       "      <td>0.705646</td>\n",
       "      <td>1.000000</td>\n",
       "      <td>1.0</td>\n",
       "      <td>1.000000</td>\n",
       "      <td>1.000000</td>\n",
       "      <td>0.321516</td>\n",
       "    </tr>\n",
       "    <tr>\n",
       "      <th>101501</th>\n",
       "      <td>1.000000</td>\n",
       "      <td>0.724462</td>\n",
       "      <td>1.000000</td>\n",
       "      <td>0.612473</td>\n",
       "      <td>0.491599</td>\n",
       "      <td>0.787668</td>\n",
       "      <td>1.0</td>\n",
       "      <td>0.658441</td>\n",
       "      <td>1.000000</td>\n",
       "      <td>1.000000</td>\n",
       "    </tr>\n",
       "    <tr>\n",
       "      <th>101502</th>\n",
       "      <td>0.477796</td>\n",
       "      <td>0.398567</td>\n",
       "      <td>1.000000</td>\n",
       "      <td>0.612473</td>\n",
       "      <td>0.491599</td>\n",
       "      <td>1.000000</td>\n",
       "      <td>1.0</td>\n",
       "      <td>1.000000</td>\n",
       "      <td>0.287214</td>\n",
       "      <td>0.321516</td>\n",
       "    </tr>\n",
       "    <tr>\n",
       "      <th>101503</th>\n",
       "      <td>0.477796</td>\n",
       "      <td>0.000000</td>\n",
       "      <td>1.000000</td>\n",
       "      <td>1.000000</td>\n",
       "      <td>0.491599</td>\n",
       "      <td>0.862336</td>\n",
       "      <td>1.0</td>\n",
       "      <td>0.658441</td>\n",
       "      <td>1.000000</td>\n",
       "      <td>1.000000</td>\n",
       "    </tr>\n",
       "  </tbody>\n",
       "</table>\n",
       "<p>101503 rows × 10 columns</p>\n",
       "</div>"
      ],
      "text/plain": [
       "        CreditUtility       Age  30-59DaysLatePayment      Debt  \\\n",
       "1            0.000000  0.209404              1.000000  1.000000   \n",
       "2            0.477796  0.398567              1.000000  0.000000   \n",
       "3            1.000000  0.398567              1.000000  0.000000   \n",
       "4            1.000000  0.101443              0.518855  0.000000   \n",
       "5            0.000000  0.000000              1.000000  1.000000   \n",
       "...               ...       ...                   ...       ...   \n",
       "101499       1.000000  0.000000              1.000000  1.000000   \n",
       "101500       0.000000  0.101443              0.207411  0.000000   \n",
       "101501       1.000000  0.724462              1.000000  0.612473   \n",
       "101502       0.477796  0.398567              1.000000  0.612473   \n",
       "101503       0.477796  0.000000              1.000000  1.000000   \n",
       "\n",
       "        Monthly-Income  OpenCreditLines  90DaysLatePayment  RealEstateLoans  \\\n",
       "1             0.491599         0.787668                1.0         0.658441   \n",
       "2             0.705646         0.862336                1.0         0.775963   \n",
       "3             0.491599         0.862336                1.0         1.000000   \n",
       "4             0.000000         1.000000                1.0         1.000000   \n",
       "5             0.000000         0.787668                1.0         0.658441   \n",
       "...                ...              ...                ...              ...   \n",
       "101499        0.000000         0.787668                1.0         0.658441   \n",
       "101500        0.705646         1.000000                1.0         1.000000   \n",
       "101501        0.491599         0.787668                1.0         0.658441   \n",
       "101502        0.491599         1.000000                1.0         1.000000   \n",
       "101503        0.491599         0.862336                1.0         0.658441   \n",
       "\n",
       "        60-89DaysLatePayment  Dependents  \n",
       "1                   1.000000    1.000000  \n",
       "2                   1.000000    0.576829  \n",
       "3                   1.000000    0.576829  \n",
       "4                   1.000000    1.000000  \n",
       "5                   1.000000    0.576829  \n",
       "...                      ...         ...  \n",
       "101499              1.000000    1.000000  \n",
       "101500              1.000000    0.321516  \n",
       "101501              1.000000    1.000000  \n",
       "101502              0.287214    0.321516  \n",
       "101503              1.000000    1.000000  \n",
       "\n",
       "[101503 rows x 10 columns]"
      ]
     },
     "execution_count": 33,
     "metadata": {},
     "output_type": "execute_result"
    }
   ],
   "source": [
    "test"
   ]
  },
  {
   "cell_type": "code",
   "execution_count": 37,
   "metadata": {},
   "outputs": [],
   "source": [
    "preds = lr.predict_proba(test)[:, 1]"
   ]
  },
  {
   "cell_type": "code",
   "execution_count": 54,
   "metadata": {},
   "outputs": [],
   "source": [
    "columns = [\"Id\", \"Probability\"]\n",
    "final = pd.DataFrame(columns=columns)\n",
    "\n",
    "final['Id'] = np.arange(len(preds))+1\n",
    "final['Probability'] = pd.Series(preds)\n",
    "\n",
    "final.to_csv('result/submission.csv', index=False)"
   ]
  },
  {
   "cell_type": "code",
   "execution_count": 59,
   "metadata": {},
   "outputs": [],
   "source": [
    "probability = lr.predict_proba(test)"
   ]
  },
  {
   "cell_type": "code",
   "execution_count": 68,
   "metadata": {},
   "outputs": [],
   "source": [
    "columns = [\"Id\", \"Good-Customer\", \"Bad-Customer\"]\n",
    "proba = pd.DataFrame(probability).rename(columns={0: 'Good-Customer',1: 'Bad-Customer'})\n",
    "proba['Id'] = np.arange(len(preds))+1\n",
    "\n",
    "proba = proba[columns]\n",
    "\n",
    "proba.to_csv('result/probability.csv', index=False)"
   ]
  },
  {
   "cell_type": "code",
   "execution_count": 69,
   "metadata": {},
   "outputs": [
    {
     "data": {
      "text/html": [
       "<div>\n",
       "<style scoped>\n",
       "    .dataframe tbody tr th:only-of-type {\n",
       "        vertical-align: middle;\n",
       "    }\n",
       "\n",
       "    .dataframe tbody tr th {\n",
       "        vertical-align: top;\n",
       "    }\n",
       "\n",
       "    .dataframe thead th {\n",
       "        text-align: right;\n",
       "    }\n",
       "</style>\n",
       "<table border=\"1\" class=\"dataframe\">\n",
       "  <thead>\n",
       "    <tr style=\"text-align: right;\">\n",
       "      <th></th>\n",
       "      <th>Id</th>\n",
       "      <th>Good-Customer</th>\n",
       "      <th>Bad-Customer</th>\n",
       "    </tr>\n",
       "  </thead>\n",
       "  <tbody>\n",
       "    <tr>\n",
       "      <th>0</th>\n",
       "      <td>1</td>\n",
       "      <td>0.475070</td>\n",
       "      <td>0.524930</td>\n",
       "    </tr>\n",
       "    <tr>\n",
       "      <th>1</th>\n",
       "      <td>2</td>\n",
       "      <td>0.603482</td>\n",
       "      <td>0.396518</td>\n",
       "    </tr>\n",
       "    <tr>\n",
       "      <th>2</th>\n",
       "      <td>3</td>\n",
       "      <td>0.799876</td>\n",
       "      <td>0.200124</td>\n",
       "    </tr>\n",
       "    <tr>\n",
       "      <th>3</th>\n",
       "      <td>4</td>\n",
       "      <td>0.515135</td>\n",
       "      <td>0.484865</td>\n",
       "    </tr>\n",
       "    <tr>\n",
       "      <th>4</th>\n",
       "      <td>5</td>\n",
       "      <td>0.371959</td>\n",
       "      <td>0.628041</td>\n",
       "    </tr>\n",
       "    <tr>\n",
       "      <th>...</th>\n",
       "      <td>...</td>\n",
       "      <td>...</td>\n",
       "      <td>...</td>\n",
       "    </tr>\n",
       "    <tr>\n",
       "      <th>101498</th>\n",
       "      <td>101499</td>\n",
       "      <td>0.748373</td>\n",
       "      <td>0.251627</td>\n",
       "    </tr>\n",
       "    <tr>\n",
       "      <th>101499</th>\n",
       "      <td>101500</td>\n",
       "      <td>0.110352</td>\n",
       "      <td>0.889648</td>\n",
       "    </tr>\n",
       "    <tr>\n",
       "      <th>101500</th>\n",
       "      <td>101501</td>\n",
       "      <td>0.840893</td>\n",
       "      <td>0.159107</td>\n",
       "    </tr>\n",
       "    <tr>\n",
       "      <th>101501</th>\n",
       "      <td>101502</td>\n",
       "      <td>0.399656</td>\n",
       "      <td>0.600344</td>\n",
       "    </tr>\n",
       "    <tr>\n",
       "      <th>101502</th>\n",
       "      <td>101503</td>\n",
       "      <td>0.609963</td>\n",
       "      <td>0.390037</td>\n",
       "    </tr>\n",
       "  </tbody>\n",
       "</table>\n",
       "<p>101503 rows × 3 columns</p>\n",
       "</div>"
      ],
      "text/plain": [
       "            Id  Good-Customer  Bad-Customer\n",
       "0            1       0.475070      0.524930\n",
       "1            2       0.603482      0.396518\n",
       "2            3       0.799876      0.200124\n",
       "3            4       0.515135      0.484865\n",
       "4            5       0.371959      0.628041\n",
       "...        ...            ...           ...\n",
       "101498  101499       0.748373      0.251627\n",
       "101499  101500       0.110352      0.889648\n",
       "101500  101501       0.840893      0.159107\n",
       "101501  101502       0.399656      0.600344\n",
       "101502  101503       0.609963      0.390037\n",
       "\n",
       "[101503 rows x 3 columns]"
      ]
     },
     "execution_count": 69,
     "metadata": {},
     "output_type": "execute_result"
    }
   ],
   "source": [
    "proba"
   ]
  },
  {
   "cell_type": "code",
   "execution_count": null,
   "metadata": {},
   "outputs": [],
   "source": []
  }
 ],
 "metadata": {
  "kernelspec": {
   "display_name": "Python 3",
   "language": "python",
   "name": "python3"
  },
  "language_info": {
   "codemirror_mode": {
    "name": "ipython",
    "version": 3
   },
   "file_extension": ".py",
   "mimetype": "text/x-python",
   "name": "python",
   "nbconvert_exporter": "python",
   "pygments_lexer": "ipython3",
   "version": "3.7.4"
  }
 },
 "nbformat": 4,
 "nbformat_minor": 4
}
