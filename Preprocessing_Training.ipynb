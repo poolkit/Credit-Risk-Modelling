{
 "cells": [
  {
   "cell_type": "code",
   "execution_count": 107,
   "metadata": {},
   "outputs": [],
   "source": [
    "import pandas as pd\n",
    "import numpy as np\n",
    "import matplotlib.pyplot as plt\n",
    "import seaborn as sns\n",
    "import pickle\n",
    "\n",
    "from sklearn.model_selection import train_test_split\n",
    "pd.set_option('display.max_column', 500)"
   ]
  },
  {
   "cell_type": "code",
   "execution_count": 197,
   "metadata": {},
   "outputs": [
    {
     "data": {
      "text/plain": [
       "(150000, 11)"
      ]
     },
     "execution_count": 197,
     "metadata": {},
     "output_type": "execute_result"
    }
   ],
   "source": [
    "df = pd.read_csv('data/cs-training.csv', index_col=0)\n",
    "df.shape"
   ]
  },
  {
   "cell_type": "code",
   "execution_count": 198,
   "metadata": {},
   "outputs": [
    {
     "data": {
      "text/html": [
       "<div>\n",
       "<style scoped>\n",
       "    .dataframe tbody tr th:only-of-type {\n",
       "        vertical-align: middle;\n",
       "    }\n",
       "\n",
       "    .dataframe tbody tr th {\n",
       "        vertical-align: top;\n",
       "    }\n",
       "\n",
       "    .dataframe thead th {\n",
       "        text-align: right;\n",
       "    }\n",
       "</style>\n",
       "<table border=\"1\" class=\"dataframe\">\n",
       "  <thead>\n",
       "    <tr style=\"text-align: right;\">\n",
       "      <th></th>\n",
       "      <th>SeriousDlqin2yrs</th>\n",
       "      <th>RevolvingUtilizationOfUnsecuredLines</th>\n",
       "      <th>age</th>\n",
       "      <th>NumberOfTime30-59DaysPastDueNotWorse</th>\n",
       "      <th>DebtRatio</th>\n",
       "      <th>MonthlyIncome</th>\n",
       "      <th>NumberOfOpenCreditLinesAndLoans</th>\n",
       "      <th>NumberOfTimes90DaysLate</th>\n",
       "      <th>NumberRealEstateLoansOrLines</th>\n",
       "      <th>NumberOfTime60-89DaysPastDueNotWorse</th>\n",
       "      <th>NumberOfDependents</th>\n",
       "    </tr>\n",
       "  </thead>\n",
       "  <tbody>\n",
       "    <tr>\n",
       "      <th>1</th>\n",
       "      <td>1</td>\n",
       "      <td>0.766127</td>\n",
       "      <td>45</td>\n",
       "      <td>2</td>\n",
       "      <td>0.802982</td>\n",
       "      <td>9120.0</td>\n",
       "      <td>13</td>\n",
       "      <td>0</td>\n",
       "      <td>6</td>\n",
       "      <td>0</td>\n",
       "      <td>2.0</td>\n",
       "    </tr>\n",
       "    <tr>\n",
       "      <th>2</th>\n",
       "      <td>0</td>\n",
       "      <td>0.957151</td>\n",
       "      <td>40</td>\n",
       "      <td>0</td>\n",
       "      <td>0.121876</td>\n",
       "      <td>2600.0</td>\n",
       "      <td>4</td>\n",
       "      <td>0</td>\n",
       "      <td>0</td>\n",
       "      <td>0</td>\n",
       "      <td>1.0</td>\n",
       "    </tr>\n",
       "    <tr>\n",
       "      <th>3</th>\n",
       "      <td>0</td>\n",
       "      <td>0.658180</td>\n",
       "      <td>38</td>\n",
       "      <td>1</td>\n",
       "      <td>0.085113</td>\n",
       "      <td>3042.0</td>\n",
       "      <td>2</td>\n",
       "      <td>1</td>\n",
       "      <td>0</td>\n",
       "      <td>0</td>\n",
       "      <td>0.0</td>\n",
       "    </tr>\n",
       "    <tr>\n",
       "      <th>4</th>\n",
       "      <td>0</td>\n",
       "      <td>0.233810</td>\n",
       "      <td>30</td>\n",
       "      <td>0</td>\n",
       "      <td>0.036050</td>\n",
       "      <td>3300.0</td>\n",
       "      <td>5</td>\n",
       "      <td>0</td>\n",
       "      <td>0</td>\n",
       "      <td>0</td>\n",
       "      <td>0.0</td>\n",
       "    </tr>\n",
       "    <tr>\n",
       "      <th>5</th>\n",
       "      <td>0</td>\n",
       "      <td>0.907239</td>\n",
       "      <td>49</td>\n",
       "      <td>1</td>\n",
       "      <td>0.024926</td>\n",
       "      <td>63588.0</td>\n",
       "      <td>7</td>\n",
       "      <td>0</td>\n",
       "      <td>1</td>\n",
       "      <td>0</td>\n",
       "      <td>0.0</td>\n",
       "    </tr>\n",
       "  </tbody>\n",
       "</table>\n",
       "</div>"
      ],
      "text/plain": [
       "   SeriousDlqin2yrs  RevolvingUtilizationOfUnsecuredLines  age  \\\n",
       "1                 1                              0.766127   45   \n",
       "2                 0                              0.957151   40   \n",
       "3                 0                              0.658180   38   \n",
       "4                 0                              0.233810   30   \n",
       "5                 0                              0.907239   49   \n",
       "\n",
       "   NumberOfTime30-59DaysPastDueNotWorse  DebtRatio  MonthlyIncome  \\\n",
       "1                                     2   0.802982         9120.0   \n",
       "2                                     0   0.121876         2600.0   \n",
       "3                                     1   0.085113         3042.0   \n",
       "4                                     0   0.036050         3300.0   \n",
       "5                                     1   0.024926        63588.0   \n",
       "\n",
       "   NumberOfOpenCreditLinesAndLoans  NumberOfTimes90DaysLate  \\\n",
       "1                               13                        0   \n",
       "2                                4                        0   \n",
       "3                                2                        1   \n",
       "4                                5                        0   \n",
       "5                                7                        0   \n",
       "\n",
       "   NumberRealEstateLoansOrLines  NumberOfTime60-89DaysPastDueNotWorse  \\\n",
       "1                             6                                     0   \n",
       "2                             0                                     0   \n",
       "3                             0                                     0   \n",
       "4                             0                                     0   \n",
       "5                             1                                     0   \n",
       "\n",
       "   NumberOfDependents  \n",
       "1                 2.0  \n",
       "2                 1.0  \n",
       "3                 0.0  \n",
       "4                 0.0  \n",
       "5                 0.0  "
      ]
     },
     "execution_count": 198,
     "metadata": {},
     "output_type": "execute_result"
    }
   ],
   "source": [
    "df.head()"
   ]
  },
  {
   "cell_type": "markdown",
   "metadata": {},
   "source": [
    "Splitting should always be the first thing to do, so that we do not touch the future data"
   ]
  },
  {
   "cell_type": "code",
   "execution_count": 199,
   "metadata": {},
   "outputs": [],
   "source": [
    "train, test = train_test_split(df, test_size=0.15, random_state=42)"
   ]
  },
  {
   "cell_type": "code",
   "execution_count": 200,
   "metadata": {},
   "outputs": [
    {
     "data": {
      "text/plain": [
       "((127500, 11), (22500, 11))"
      ]
     },
     "execution_count": 200,
     "metadata": {},
     "output_type": "execute_result"
    }
   ],
   "source": [
    "train.shape, test.shape"
   ]
  },
  {
   "cell_type": "markdown",
   "metadata": {},
   "source": [
    "## EDA"
   ]
  },
  {
   "cell_type": "markdown",
   "metadata": {},
   "source": [
    "**Variable Name** --- **Description** <br>\n",
    "- _SeriousDlqin2yrs_ --- Person experienced 90 days past due delinquency or worse <br>\n",
    "- _RevolvingUtilizationOfUnsecuredLines_ --- Total balance on credit cards and personal lines of credit except real estate and no installment debt like car loans divided by the sum of credit limits <br>\n",
    "- _age_ --- Age of borrower in years <br>\n",
    "- _NumberOfTime30-59DaysPastDueNotWorse_ --- Number of times borrower has been 30-59 days past due but no worse in the last 2 years. <br>\n",
    "- _DebtRatio_ --- Monthly debt payments, alimony,living costs divided by monthy gross income <br>\n",
    "- _MonthlyIncome_ --- Monthly income <br>\n",
    "- _NumberOfOpenCreditLinesAndLoans_ --- Number of Open loans (installment like car loan or mortgage) and Lines of credit (e.g. credit cards) <br>\n",
    "- _NumberOfTimes90DaysLate_ --- Number of times borrower has been 90 days or more past due. <br>\n",
    "- _NumberRealEstateLoansOrLines_ --- Number of mortgage and real estate loans including home equity lines of credit <br>\n",
    "- _NumberOfTime60-89DaysPastDueNotWorse_ --- Number of times borrower has been 60-89 days past due but no worse in the last 2 years. <br>\n",
    "- _NumberOfDependents_ --- Number of dependents in family excluding themselves (spouse, children etc.) <br>\n",
    "\n",
    "We will be predicting the **_SeriousDlqin2yrs_** variable which means that the borrower has not paid his due for 90 days or more.<br>\n",
    "Let's analyse!"
   ]
  },
  {
   "cell_type": "code",
   "execution_count": 201,
   "metadata": {},
   "outputs": [
    {
     "name": "stdout",
     "output_type": "stream",
     "text": [
      "<class 'pandas.core.frame.DataFrame'>\n",
      "Int64Index: 127500 entries, 135021 to 121959\n",
      "Data columns (total 11 columns):\n",
      " #   Column                                Non-Null Count   Dtype  \n",
      "---  ------                                --------------   -----  \n",
      " 0   SeriousDlqin2yrs                      127500 non-null  int64  \n",
      " 1   RevolvingUtilizationOfUnsecuredLines  127500 non-null  float64\n",
      " 2   age                                   127500 non-null  int64  \n",
      " 3   NumberOfTime30-59DaysPastDueNotWorse  127500 non-null  int64  \n",
      " 4   DebtRatio                             127500 non-null  float64\n",
      " 5   MonthlyIncome                         102317 non-null  float64\n",
      " 6   NumberOfOpenCreditLinesAndLoans       127500 non-null  int64  \n",
      " 7   NumberOfTimes90DaysLate               127500 non-null  int64  \n",
      " 8   NumberRealEstateLoansOrLines          127500 non-null  int64  \n",
      " 9   NumberOfTime60-89DaysPastDueNotWorse  127500 non-null  int64  \n",
      " 10  NumberOfDependents                    124169 non-null  float64\n",
      "dtypes: float64(4), int64(7)\n",
      "memory usage: 11.7 MB\n"
     ]
    }
   ],
   "source": [
    "train.info()"
   ]
  },
  {
   "cell_type": "code",
   "execution_count": 202,
   "metadata": {},
   "outputs": [
    {
     "data": {
      "text/html": [
       "<div>\n",
       "<style scoped>\n",
       "    .dataframe tbody tr th:only-of-type {\n",
       "        vertical-align: middle;\n",
       "    }\n",
       "\n",
       "    .dataframe tbody tr th {\n",
       "        vertical-align: top;\n",
       "    }\n",
       "\n",
       "    .dataframe thead th {\n",
       "        text-align: right;\n",
       "    }\n",
       "</style>\n",
       "<table border=\"1\" class=\"dataframe\">\n",
       "  <thead>\n",
       "    <tr style=\"text-align: right;\">\n",
       "      <th></th>\n",
       "      <th>SeriousDlqin2yrs</th>\n",
       "      <th>RevolvingUtilizationOfUnsecuredLines</th>\n",
       "      <th>age</th>\n",
       "      <th>NumberOfTime30-59DaysPastDueNotWorse</th>\n",
       "      <th>DebtRatio</th>\n",
       "      <th>MonthlyIncome</th>\n",
       "      <th>NumberOfOpenCreditLinesAndLoans</th>\n",
       "      <th>NumberOfTimes90DaysLate</th>\n",
       "      <th>NumberRealEstateLoansOrLines</th>\n",
       "      <th>NumberOfTime60-89DaysPastDueNotWorse</th>\n",
       "      <th>NumberOfDependents</th>\n",
       "    </tr>\n",
       "  </thead>\n",
       "  <tbody>\n",
       "    <tr>\n",
       "      <th>count</th>\n",
       "      <td>127500.000000</td>\n",
       "      <td>127500.000000</td>\n",
       "      <td>127500.000000</td>\n",
       "      <td>127500.000000</td>\n",
       "      <td>127500.000000</td>\n",
       "      <td>1.023170e+05</td>\n",
       "      <td>127500.000000</td>\n",
       "      <td>127500.000000</td>\n",
       "      <td>127500.000000</td>\n",
       "      <td>127500.000000</td>\n",
       "      <td>124169.000000</td>\n",
       "    </tr>\n",
       "    <tr>\n",
       "      <th>mean</th>\n",
       "      <td>0.067098</td>\n",
       "      <td>5.861725</td>\n",
       "      <td>52.289349</td>\n",
       "      <td>0.419710</td>\n",
       "      <td>350.853855</td>\n",
       "      <td>6.674925e+03</td>\n",
       "      <td>8.460047</td>\n",
       "      <td>0.264071</td>\n",
       "      <td>1.018714</td>\n",
       "      <td>0.238031</td>\n",
       "      <td>0.758498</td>\n",
       "    </tr>\n",
       "    <tr>\n",
       "      <th>std</th>\n",
       "      <td>0.250193</td>\n",
       "      <td>248.495280</td>\n",
       "      <td>14.766899</td>\n",
       "      <td>4.169496</td>\n",
       "      <td>1902.282052</td>\n",
       "      <td>1.490752e+04</td>\n",
       "      <td>5.146500</td>\n",
       "      <td>4.145627</td>\n",
       "      <td>1.128444</td>\n",
       "      <td>4.131237</td>\n",
       "      <td>1.115947</td>\n",
       "    </tr>\n",
       "    <tr>\n",
       "      <th>min</th>\n",
       "      <td>0.000000</td>\n",
       "      <td>0.000000</td>\n",
       "      <td>21.000000</td>\n",
       "      <td>0.000000</td>\n",
       "      <td>0.000000</td>\n",
       "      <td>0.000000e+00</td>\n",
       "      <td>0.000000</td>\n",
       "      <td>0.000000</td>\n",
       "      <td>0.000000</td>\n",
       "      <td>0.000000</td>\n",
       "      <td>0.000000</td>\n",
       "    </tr>\n",
       "    <tr>\n",
       "      <th>25%</th>\n",
       "      <td>0.000000</td>\n",
       "      <td>0.029952</td>\n",
       "      <td>41.000000</td>\n",
       "      <td>0.000000</td>\n",
       "      <td>0.175434</td>\n",
       "      <td>3.400000e+03</td>\n",
       "      <td>5.000000</td>\n",
       "      <td>0.000000</td>\n",
       "      <td>0.000000</td>\n",
       "      <td>0.000000</td>\n",
       "      <td>0.000000</td>\n",
       "    </tr>\n",
       "    <tr>\n",
       "      <th>50%</th>\n",
       "      <td>0.000000</td>\n",
       "      <td>0.154388</td>\n",
       "      <td>52.000000</td>\n",
       "      <td>0.000000</td>\n",
       "      <td>0.366782</td>\n",
       "      <td>5.400000e+03</td>\n",
       "      <td>8.000000</td>\n",
       "      <td>0.000000</td>\n",
       "      <td>1.000000</td>\n",
       "      <td>0.000000</td>\n",
       "      <td>0.000000</td>\n",
       "    </tr>\n",
       "    <tr>\n",
       "      <th>75%</th>\n",
       "      <td>0.000000</td>\n",
       "      <td>0.558588</td>\n",
       "      <td>63.000000</td>\n",
       "      <td>0.000000</td>\n",
       "      <td>0.866808</td>\n",
       "      <td>8.258000e+03</td>\n",
       "      <td>11.000000</td>\n",
       "      <td>0.000000</td>\n",
       "      <td>2.000000</td>\n",
       "      <td>0.000000</td>\n",
       "      <td>1.000000</td>\n",
       "    </tr>\n",
       "    <tr>\n",
       "      <th>max</th>\n",
       "      <td>1.000000</td>\n",
       "      <td>50708.000000</td>\n",
       "      <td>109.000000</td>\n",
       "      <td>98.000000</td>\n",
       "      <td>326442.000000</td>\n",
       "      <td>3.008750e+06</td>\n",
       "      <td>58.000000</td>\n",
       "      <td>98.000000</td>\n",
       "      <td>54.000000</td>\n",
       "      <td>98.000000</td>\n",
       "      <td>13.000000</td>\n",
       "    </tr>\n",
       "  </tbody>\n",
       "</table>\n",
       "</div>"
      ],
      "text/plain": [
       "       SeriousDlqin2yrs  RevolvingUtilizationOfUnsecuredLines            age  \\\n",
       "count     127500.000000                         127500.000000  127500.000000   \n",
       "mean           0.067098                              5.861725      52.289349   \n",
       "std            0.250193                            248.495280      14.766899   \n",
       "min            0.000000                              0.000000      21.000000   \n",
       "25%            0.000000                              0.029952      41.000000   \n",
       "50%            0.000000                              0.154388      52.000000   \n",
       "75%            0.000000                              0.558588      63.000000   \n",
       "max            1.000000                          50708.000000     109.000000   \n",
       "\n",
       "       NumberOfTime30-59DaysPastDueNotWorse      DebtRatio  MonthlyIncome  \\\n",
       "count                         127500.000000  127500.000000   1.023170e+05   \n",
       "mean                               0.419710     350.853855   6.674925e+03   \n",
       "std                                4.169496    1902.282052   1.490752e+04   \n",
       "min                                0.000000       0.000000   0.000000e+00   \n",
       "25%                                0.000000       0.175434   3.400000e+03   \n",
       "50%                                0.000000       0.366782   5.400000e+03   \n",
       "75%                                0.000000       0.866808   8.258000e+03   \n",
       "max                               98.000000  326442.000000   3.008750e+06   \n",
       "\n",
       "       NumberOfOpenCreditLinesAndLoans  NumberOfTimes90DaysLate  \\\n",
       "count                    127500.000000            127500.000000   \n",
       "mean                          8.460047                 0.264071   \n",
       "std                           5.146500                 4.145627   \n",
       "min                           0.000000                 0.000000   \n",
       "25%                           5.000000                 0.000000   \n",
       "50%                           8.000000                 0.000000   \n",
       "75%                          11.000000                 0.000000   \n",
       "max                          58.000000                98.000000   \n",
       "\n",
       "       NumberRealEstateLoansOrLines  NumberOfTime60-89DaysPastDueNotWorse  \\\n",
       "count                 127500.000000                         127500.000000   \n",
       "mean                       1.018714                              0.238031   \n",
       "std                        1.128444                              4.131237   \n",
       "min                        0.000000                              0.000000   \n",
       "25%                        0.000000                              0.000000   \n",
       "50%                        1.000000                              0.000000   \n",
       "75%                        2.000000                              0.000000   \n",
       "max                       54.000000                             98.000000   \n",
       "\n",
       "       NumberOfDependents  \n",
       "count       124169.000000  \n",
       "mean             0.758498  \n",
       "std              1.115947  \n",
       "min              0.000000  \n",
       "25%              0.000000  \n",
       "50%              0.000000  \n",
       "75%              1.000000  \n",
       "max             13.000000  "
      ]
     },
     "execution_count": 202,
     "metadata": {},
     "output_type": "execute_result"
    }
   ],
   "source": [
    "train.describe()"
   ]
  },
  {
   "cell_type": "code",
   "execution_count": 203,
   "metadata": {},
   "outputs": [
    {
     "data": {
      "text/plain": [
       "SeriousDlqin2yrs                            0\n",
       "RevolvingUtilizationOfUnsecuredLines        0\n",
       "age                                         0\n",
       "NumberOfTime30-59DaysPastDueNotWorse        0\n",
       "DebtRatio                                   0\n",
       "MonthlyIncome                           25183\n",
       "NumberOfOpenCreditLinesAndLoans             0\n",
       "NumberOfTimes90DaysLate                     0\n",
       "NumberRealEstateLoansOrLines                0\n",
       "NumberOfTime60-89DaysPastDueNotWorse        0\n",
       "NumberOfDependents                       3331\n",
       "dtype: int64"
      ]
     },
     "execution_count": 203,
     "metadata": {},
     "output_type": "execute_result"
    }
   ],
   "source": [
    "train.isnull().sum()"
   ]
  },
  {
   "cell_type": "markdown",
   "metadata": {},
   "source": [
    "We can clearly see that monthly income and no. of dependents are having nulls. One of the reasons could be the hesitancy of revealing one's income, or they have no income at all."
   ]
  },
  {
   "cell_type": "code",
   "execution_count": 204,
   "metadata": {},
   "outputs": [
    {
     "data": {
      "image/png": "[encoded data removed]",
      "text/plain": [
       "<Figure size 1800x720 with 10 Axes>"
      ]
     },
     "metadata": {
      "needs_background": "light"
     },
     "output_type": "display_data"
    }
   ],
   "source": [
    "plt.figure(figsize=(25, 10))\n",
    "plt.subplots_adjust(hspace=0.2)\n",
    "\n",
    "for i, column_name in enumerate(train.columns[1:]):\n",
    "    ax = plt.subplot(2, 5, i + 1)\n",
    "    sns.kdeplot(train[column_name], ax=ax)\n",
    "    ax.tick_params(axis='x', rotation=45)\n",
    "    ax.set_xlabel(column_name)\n",
    "    ax.set_ylabel('Density')\n",
    "\n",
    "plt.show()"
   ]
  },
  {
   "cell_type": "markdown",
   "metadata": {},
   "source": [
    "plt.figure(figsize=(25, 10))\n",
    "plt.subplots_adjust(hspace=0.3)\n",
    "\n",
    "for i, column_name in enumerate(train.columns[1:]):\n",
    "    ax = plt.subplot(2, 5, i + 1)\n",
    "    plt.hist(train[column_name])\n",
    "    ax.tick_params(axis='x', rotation=45)\n",
    "    ax.set_xlabel(column_name)\n",
    "    ax.set_ylabel('Density')\n",
    "\n",
    "plt.show()"
   ]
  },
  {
   "cell_type": "markdown",
   "metadata": {},
   "source": [
    "Since in most of the columns, maximum values belong to one bin, we can cut the columns into different bins. For this, we have to analyse each column separately. "
   ]
  },
  {
   "cell_type": "markdown",
   "metadata": {},
   "source": [
    "**RevolvingUtilizationOfUnsecuredLines**"
   ]
  },
  {
   "cell_type": "code",
   "execution_count": 205,
   "metadata": {},
   "outputs": [],
   "source": [
    "# Since credit utility can't be greater then 1, all the higher values are trimmed down\n",
    "train['RevolvingUtilizationOfUnsecuredLines'] = np.minimum(train['RevolvingUtilizationOfUnsecuredLines'], 1)\n",
    "test['RevolvingUtilizationOfUnsecuredLines'] = np.minimum(test['RevolvingUtilizationOfUnsecuredLines'], 1)"
   ]
  },
  {
   "cell_type": "code",
   "execution_count": 206,
   "metadata": {},
   "outputs": [
    {
     "data": {
      "text/plain": [
       "0.000000    9186\n",
       "1.000000    8714\n",
       "1.000000    2829\n",
       "0.950100       7\n",
       "0.954092       6\n",
       "            ... \n",
       "0.270103       1\n",
       "0.498866       1\n",
       "0.070934       1\n",
       "0.272126       1\n",
       "0.208051       1\n",
       "Name: RevolvingUtilizationOfUnsecuredLines, Length: 104605, dtype: int64"
      ]
     },
     "execution_count": 206,
     "metadata": {},
     "output_type": "execute_result"
    }
   ],
   "source": [
    "train['RevolvingUtilizationOfUnsecuredLines'].value_counts()"
   ]
  },
  {
   "cell_type": "markdown",
   "metadata": {},
   "source": [
    "Since credit utility is the total credit balance used divided by total spend limit. So 30% is considered a safe limit. I will bin it into 3 categories."
   ]
  },
  {
   "cell_type": "code",
   "execution_count": 207,
   "metadata": {},
   "outputs": [],
   "source": [
    "def RevolvingUtilizationOfUnsecuredLines(data):\n",
    "    conditions = [\n",
    "        (data['RevolvingUtilizationOfUnsecuredLines'] <= 0.3),\n",
    "        (data['RevolvingUtilizationOfUnsecuredLines']> 0.3) & (data['RevolvingUtilizationOfUnsecuredLines'] <=0.7),\n",
    "        (data['RevolvingUtilizationOfUnsecuredLines'] > 0.7)\n",
    "    ]\n",
    "    bin_labels = ['Good', 'Average', 'Bad']\n",
    "\n",
    "    data['CreditUtility'] = np.select(conditions, bin_labels, default='Unknown')\n",
    "    return None\n",
    "\n",
    "RevolvingUtilizationOfUnsecuredLines(train)\n",
    "RevolvingUtilizationOfUnsecuredLines(test)"
   ]
  },
  {
   "cell_type": "code",
   "execution_count": 208,
   "metadata": {},
   "outputs": [
    {
     "data": {
      "text/plain": [
       "Good       78925\n",
       "Bad        25426\n",
       "Average    23149\n",
       "Name: CreditUtility, dtype: int64"
      ]
     },
     "execution_count": 208,
     "metadata": {},
     "output_type": "execute_result"
    }
   ],
   "source": [
    "train['CreditUtility'].value_counts()"
   ]
  },
  {
   "cell_type": "markdown",
   "metadata": {},
   "source": [
    "**Age**"
   ]
  },
  {
   "cell_type": "code",
   "execution_count": 209,
   "metadata": {},
   "outputs": [
    {
     "data": {
      "text/plain": [
       "49     3271\n",
       "48     3256\n",
       "50     3172\n",
       "63     3163\n",
       "47     3156\n",
       "       ... \n",
       "103       3\n",
       "101       2\n",
       "109       2\n",
       "105       1\n",
       "107       1\n",
       "Name: age, Length: 85, dtype: int64"
      ]
     },
     "execution_count": 209,
     "metadata": {},
     "output_type": "execute_result"
    }
   ],
   "source": [
    "train['age'].value_counts()"
   ]
  },
  {
   "cell_type": "markdown",
   "metadata": {},
   "source": [
    "From earlier histograms, we can see that the age is mostly cluttered from 30-70."
   ]
  },
  {
   "cell_type": "code",
   "execution_count": 210,
   "metadata": {},
   "outputs": [],
   "source": [
    "def age(data):\n",
    "    conditions = [\n",
    "        (data['age'] <= 30),\n",
    "        (data['age'] >30) & (data['age'] <=40),\n",
    "        (data['age'] >40) & (data['age'] <=50),\n",
    "        (data['age'] >50) & (data['age'] <=60),\n",
    "        (data['age'] >60) & (data['age'] <=70),\n",
    "        (data['age'] >70)\n",
    "    ]\n",
    "    bin_labels = ['Below30', '30-40', '40-50', '50-60', '60-70', 'Above70']\n",
    "\n",
    "    data['Age'] = np.select(conditions, bin_labels, default='Unknown')\n",
    "    return None\n",
    "\n",
    "age(train)\n",
    "age(test)"
   ]
  },
  {
   "cell_type": "code",
   "execution_count": 211,
   "metadata": {},
   "outputs": [
    {
     "data": {
      "text/plain": [
       "40-50      29802\n",
       "50-60      29625\n",
       "60-70      23293\n",
       "30-40      20713\n",
       "Above70    14947\n",
       "Below30     9120\n",
       "Name: Age, dtype: int64"
      ]
     },
     "execution_count": 211,
     "metadata": {},
     "output_type": "execute_result"
    }
   ],
   "source": [
    "train['Age'].value_counts()"
   ]
  },
  {
   "cell_type": "markdown",
   "metadata": {},
   "source": [
    "**NumberOfTime30-59DaysPastDueNotWorse**"
   ]
  },
  {
   "cell_type": "code",
   "execution_count": 212,
   "metadata": {},
   "outputs": [
    {
     "data": {
      "text/plain": [
       "0     107075\n",
       "1      13652\n",
       "2       3916\n",
       "3       1498\n",
       "4        640\n",
       "5        285\n",
       "98       222\n",
       "6        123\n",
       "7         43\n",
       "8         23\n",
       "9         11\n",
       "96         4\n",
       "10         4\n",
       "12         2\n",
       "13         1\n",
       "11         1\n",
       "Name: NumberOfTime30-59DaysPastDueNotWorse, dtype: int64"
      ]
     },
     "execution_count": 212,
     "metadata": {},
     "output_type": "execute_result"
    }
   ],
   "source": [
    "train['NumberOfTime30-59DaysPastDueNotWorse'].value_counts()"
   ]
  },
  {
   "cell_type": "markdown",
   "metadata": {},
   "source": [
    "We will take an upper value of 6 to be moderate. That way, most of the borrowers will be included in good and moderate."
   ]
  },
  {
   "cell_type": "code",
   "execution_count": 213,
   "metadata": {},
   "outputs": [],
   "source": [
    "def NumberOfTime3059DaysPastDueNotWorse(data):\n",
    "    conditions = [\n",
    "        (data['NumberOfTime30-59DaysPastDueNotWorse'] == 0),\n",
    "        (data['NumberOfTime30-59DaysPastDueNotWorse'] >=1) & (data['NumberOfTime30-59DaysPastDueNotWorse'] <=2),\n",
    "        (data['NumberOfTime30-59DaysPastDueNotWorse'] >2) & (data['NumberOfTime30-59DaysPastDueNotWorse'] <=5),\n",
    "        (data['NumberOfTime30-59DaysPastDueNotWorse'] >5) & (data['NumberOfTime30-59DaysPastDueNotWorse'] <=10),\n",
    "        (data['NumberOfTime30-59DaysPastDueNotWorse'] >10)\n",
    "    ]\n",
    "    bin_labels = ['No', 'Rare', 'Ocassional', 'Frequent', 'Very-Frequent']\n",
    "\n",
    "    data['30-59DaysLatePayment'] = np.select(conditions, bin_labels, default='Unknown')\n",
    "    return None\n",
    "\n",
    "NumberOfTime3059DaysPastDueNotWorse(train)\n",
    "NumberOfTime3059DaysPastDueNotWorse(test)"
   ]
  },
  {
   "cell_type": "code",
   "execution_count": 214,
   "metadata": {},
   "outputs": [
    {
     "data": {
      "text/plain": [
       "No               107075\n",
       "Rare              17568\n",
       "Ocassional         2423\n",
       "Very-Frequent       230\n",
       "Frequent            204\n",
       "Name: 30-59DaysLatePayment, dtype: int64"
      ]
     },
     "execution_count": 214,
     "metadata": {},
     "output_type": "execute_result"
    }
   ],
   "source": [
    "train['30-59DaysLatePayment'].value_counts()"
   ]
  },
  {
   "cell_type": "markdown",
   "metadata": {},
   "source": [
    "**DebtRatio**"
   ]
  },
  {
   "cell_type": "code",
   "execution_count": 215,
   "metadata": {},
   "outputs": [
    {
     "data": {
      "text/plain": [
       "0.000000    3473\n",
       "1.000000     190\n",
       "2.000000     154\n",
       "4.000000     153\n",
       "3.000000     134\n",
       "            ... \n",
       "0.452945       1\n",
       "0.235516       1\n",
       "0.010363       1\n",
       "0.100327       1\n",
       "0.105189       1\n",
       "Name: DebtRatio, Length: 98524, dtype: int64"
      ]
     },
     "execution_count": 215,
     "metadata": {},
     "output_type": "execute_result"
    }
   ],
   "source": [
    "train['DebtRatio'].value_counts()"
   ]
  },
  {
   "cell_type": "markdown",
   "metadata": {},
   "source": [
    "A debt ratio of 1 means the borrower's assets and liabilities are equal. Anything above 1 is considered bad."
   ]
  },
  {
   "cell_type": "code",
   "execution_count": 216,
   "metadata": {},
   "outputs": [],
   "source": [
    "def DebtRatio(data):\n",
    "    conditions = [\n",
    "        (data['DebtRatio'] <= 0.3),\n",
    "        (data['DebtRatio'] >0.3) & (data['DebtRatio'] <=1),\n",
    "        (data['DebtRatio'] >1)\n",
    "    ]\n",
    "    bin_labels = ['Low-Debt', 'Moderate-Debt', 'High-Debt']\n",
    "\n",
    "    data['Debt'] = np.select(conditions, bin_labels, default='Unknown')\n",
    "    return None\n",
    "\n",
    "DebtRatio(train)\n",
    "DebtRatio(test)"
   ]
  },
  {
   "cell_type": "code",
   "execution_count": 217,
   "metadata": {},
   "outputs": [
    {
     "data": {
      "text/plain": [
       "Low-Debt         53087\n",
       "Moderate-Debt    44584\n",
       "High-Debt        29829\n",
       "Name: Debt, dtype: int64"
      ]
     },
     "execution_count": 217,
     "metadata": {},
     "output_type": "execute_result"
    }
   ],
   "source": [
    "train['Debt'].value_counts()"
   ]
  },
  {
   "cell_type": "markdown",
   "metadata": {},
   "source": [
    "**MonthlyIncome**"
   ]
  },
  {
   "cell_type": "code",
   "execution_count": 218,
   "metadata": {},
   "outputs": [
    {
     "data": {
      "text/plain": [
       "5000.0     2330\n",
       "4000.0     1781\n",
       "6000.0     1618\n",
       "3000.0     1487\n",
       "0.0        1385\n",
       "           ... \n",
       "12105.0       1\n",
       "1579.0        1\n",
       "16501.0       1\n",
       "8755.0        1\n",
       "978.0         1\n",
       "Name: MonthlyIncome, Length: 12919, dtype: int64"
      ]
     },
     "execution_count": 218,
     "metadata": {},
     "output_type": "execute_result"
    }
   ],
   "source": [
    "train['MonthlyIncome'].value_counts()"
   ]
  },
  {
   "cell_type": "code",
   "execution_count": 219,
   "metadata": {},
   "outputs": [],
   "source": [
    "# We have some missing values in monthly income. Let's replace it with median values.\n",
    "MonthlyIncomeMedian = train['MonthlyIncome'].median()\n",
    "\n",
    "train['MonthlyIncome'].fillna(MonthlyIncomeMedian, inplace=True)\n",
    "test['MonthlyIncome'].fillna(MonthlyIncomeMedian, inplace=True)"
   ]
  },
  {
   "cell_type": "code",
   "execution_count": 220,
   "metadata": {},
   "outputs": [],
   "source": [
    "def MonthlyIncome(data):\n",
    "    conditions = [\n",
    "        (data['MonthlyIncome'] <= 1000),\n",
    "        (data['MonthlyIncome'] >1000) & (data['MonthlyIncome'] <=4000),\n",
    "        (data['MonthlyIncome'] >4000) & (data['MonthlyIncome'] <=7000),\n",
    "        (data['MonthlyIncome'] >7000) & (data['MonthlyIncome'] <=10000),\n",
    "        (data['MonthlyIncome'] >10000) & (data['MonthlyIncome'] <=15000),\n",
    "        (data['MonthlyIncome'] >15000)\n",
    "    ]\n",
    "    bin_labels = ['Low-Income', 'Moderate-Income', 'Middle-Income', 'Upper-Middle-Income', 'High-Income', 'Rich']\n",
    "\n",
    "    data['Monthly-Income'] = np.select(conditions, bin_labels, default='Unknown')\n",
    "    return None\n",
    "\n",
    "MonthlyIncome(train)\n",
    "MonthlyIncome(test)"
   ]
  },
  {
   "cell_type": "code",
   "execution_count": 221,
   "metadata": {},
   "outputs": [
    {
     "data": {
      "text/plain": [
       "Middle-Income          58671\n",
       "Moderate-Income        30230\n",
       "Upper-Middle-Income    18951\n",
       "High-Income            11109\n",
       "Rich                    4472\n",
       "Low-Income              4067\n",
       "Name: Monthly-Income, dtype: int64"
      ]
     },
     "execution_count": 221,
     "metadata": {},
     "output_type": "execute_result"
    }
   ],
   "source": [
    "train['Monthly-Income'].value_counts()"
   ]
  },
  {
   "cell_type": "markdown",
   "metadata": {},
   "source": [
    "**NumberOfOpenCreditLinesAndLoans**"
   ]
  },
  {
   "cell_type": "code",
   "execution_count": 222,
   "metadata": {},
   "outputs": [
    {
     "data": {
      "text/plain": [
       "6     11581\n",
       "7     11235\n",
       "5     11015\n",
       "8     10611\n",
       "4      9877\n",
       "9      9718\n",
       "10     8178\n",
       "3      7646\n",
       "11     7072\n",
       "12     5965\n",
       "2      5627\n",
       "13     4834\n",
       "14     3882\n",
       "1      3767\n",
       "15     3094\n",
       "16     2609\n",
       "17     2003\n",
       "0      1606\n",
       "18     1605\n",
       "19     1220\n",
       "20      986\n",
       "21      728\n",
       "22      592\n",
       "23      451\n",
       "24      349\n",
       "25      291\n",
       "26      201\n",
       "27      161\n",
       "28      121\n",
       "29       96\n",
       "30       75\n",
       "31       62\n",
       "32       44\n",
       "33       38\n",
       "34       32\n",
       "35       25\n",
       "36       13\n",
       "38       13\n",
       "40        8\n",
       "39        8\n",
       "43        8\n",
       "42        7\n",
       "45        6\n",
       "37        6\n",
       "48        5\n",
       "49        4\n",
       "54        4\n",
       "52        3\n",
       "41        3\n",
       "57        2\n",
       "44        2\n",
       "46        2\n",
       "51        2\n",
       "47        2\n",
       "56        2\n",
       "58        1\n",
       "50        1\n",
       "53        1\n",
       "Name: NumberOfOpenCreditLinesAndLoans, dtype: int64"
      ]
     },
     "execution_count": 222,
     "metadata": {},
     "output_type": "execute_result"
    }
   ],
   "source": [
    "train['NumberOfOpenCreditLinesAndLoans'].value_counts()"
   ]
  },
  {
   "cell_type": "code",
   "execution_count": 223,
   "metadata": {},
   "outputs": [],
   "source": [
    "def NumberOfOpenCreditLinesAndLoans(data):\n",
    "    conditions = [\n",
    "        (data['NumberOfOpenCreditLinesAndLoans'] <= 2),\n",
    "        (data['NumberOfOpenCreditLinesAndLoans'] >2) & (data['NumberOfOpenCreditLinesAndLoans'] <=5),\n",
    "        (data['NumberOfOpenCreditLinesAndLoans'] >5) & (data['NumberOfOpenCreditLinesAndLoans'] <=10),\n",
    "        (data['NumberOfOpenCreditLinesAndLoans'] >10) & (data['NumberOfOpenCreditLinesAndLoans'] <=15),\n",
    "        (data['NumberOfOpenCreditLinesAndLoans'] >15)\n",
    "    ]\n",
    "    bin_labels = ['Few', 'Moderate', 'Many', 'Numerous', 'Extensive']\n",
    "\n",
    "    data['OpenCreditLines'] = np.select(conditions, bin_labels, default='Unknown')\n",
    "    return None\n",
    "\n",
    "NumberOfOpenCreditLinesAndLoans(train)\n",
    "NumberOfOpenCreditLinesAndLoans(test)"
   ]
  },
  {
   "cell_type": "code",
   "execution_count": 224,
   "metadata": {},
   "outputs": [
    {
     "data": {
      "text/plain": [
       "Many         51323\n",
       "Moderate     28538\n",
       "Numerous     24847\n",
       "Extensive    11792\n",
       "Few          11000\n",
       "Name: OpenCreditLines, dtype: int64"
      ]
     },
     "execution_count": 224,
     "metadata": {},
     "output_type": "execute_result"
    }
   ],
   "source": [
    "train['OpenCreditLines'].value_counts()"
   ]
  },
  {
   "cell_type": "markdown",
   "metadata": {},
   "source": [
    "**NumberOfTimes90DaysLate**"
   ]
  },
  {
   "cell_type": "code",
   "execution_count": 225,
   "metadata": {},
   "outputs": [
    {
     "data": {
      "text/plain": [
       "0     120420\n",
       "1       4449\n",
       "2       1317\n",
       "3        568\n",
       "4        253\n",
       "98       222\n",
       "5        110\n",
       "6         68\n",
       "7         34\n",
       "8         18\n",
       "9         17\n",
       "10         8\n",
       "11         4\n",
       "13         4\n",
       "96         4\n",
       "15         2\n",
       "14         1\n",
       "17         1\n",
       "Name: NumberOfTimes90DaysLate, dtype: int64"
      ]
     },
     "execution_count": 225,
     "metadata": {},
     "output_type": "execute_result"
    }
   ],
   "source": [
    "train['NumberOfTimes90DaysLate'].value_counts()"
   ]
  },
  {
   "cell_type": "code",
   "execution_count": 226,
   "metadata": {},
   "outputs": [],
   "source": [
    "def NumberOfTimes90DaysLate(data):\n",
    "    conditions = [\n",
    "        (data['NumberOfTimes90DaysLate'] == 0),\n",
    "        (data['NumberOfTimes90DaysLate'] >=1) & (data['NumberOfTimes90DaysLate'] <=2),\n",
    "        (data['NumberOfTimes90DaysLate'] >2) & (data['NumberOfTimes90DaysLate'] <=5),\n",
    "        (data['NumberOfTimes90DaysLate'] >5) & (data['NumberOfTimes90DaysLate'] <=10),\n",
    "        (data['NumberOfTimes90DaysLate'] >10)\n",
    "    ]\n",
    "    bin_labels = ['No', 'Rare', 'Ocassional', 'Frequent', 'Very-Frequent']\n",
    "\n",
    "    data['90DaysLatePayment'] = np.select(conditions, bin_labels, default='Unknown')\n",
    "    return None\n",
    "\n",
    "NumberOfTimes90DaysLate(train)\n",
    "NumberOfTimes90DaysLate(test)"
   ]
  },
  {
   "cell_type": "code",
   "execution_count": 227,
   "metadata": {},
   "outputs": [
    {
     "data": {
      "text/plain": [
       "No               120420\n",
       "Rare               5766\n",
       "Ocassional          931\n",
       "Very-Frequent       238\n",
       "Frequent            145\n",
       "Name: 90DaysLatePayment, dtype: int64"
      ]
     },
     "execution_count": 227,
     "metadata": {},
     "output_type": "execute_result"
    }
   ],
   "source": [
    "train['90DaysLatePayment'].value_counts()"
   ]
  },
  {
   "cell_type": "markdown",
   "metadata": {},
   "source": [
    "**NumberRealEstateLoansOrLines**"
   ]
  },
  {
   "cell_type": "code",
   "execution_count": 228,
   "metadata": {},
   "outputs": [
    {
     "data": {
      "text/plain": [
       "0     47746\n",
       "1     44483\n",
       "2     26784\n",
       "3      5356\n",
       "4      1860\n",
       "5       600\n",
       "6       272\n",
       "7       146\n",
       "8        81\n",
       "9        64\n",
       "10       30\n",
       "11       19\n",
       "12       16\n",
       "13       12\n",
       "14        7\n",
       "15        6\n",
       "25        3\n",
       "17        3\n",
       "19        2\n",
       "23        2\n",
       "18        2\n",
       "20        2\n",
       "16        2\n",
       "54        1\n",
       "32        1\n",
       "Name: NumberRealEstateLoansOrLines, dtype: int64"
      ]
     },
     "execution_count": 228,
     "metadata": {},
     "output_type": "execute_result"
    }
   ],
   "source": [
    "train['NumberRealEstateLoansOrLines'].value_counts()"
   ]
  },
  {
   "cell_type": "code",
   "execution_count": 229,
   "metadata": {},
   "outputs": [],
   "source": [
    "def NumberRealEstateLoansOrLines(data):\n",
    "    conditions = [\n",
    "        (data['NumberRealEstateLoansOrLines'] == 0),\n",
    "        (data['NumberRealEstateLoansOrLines'] >=1) & (data['NumberRealEstateLoansOrLines'] <=2),\n",
    "        (data['NumberRealEstateLoansOrLines'] >2) & (data['NumberRealEstateLoansOrLines'] <=4),\n",
    "        (data['NumberRealEstateLoansOrLines'] >4) & (data['NumberRealEstateLoansOrLines'] <=7),\n",
    "        (data['NumberRealEstateLoansOrLines'] >7)\n",
    "    ]\n",
    "    bin_labels = ['No-Estate-Loans', 'Low-Estate-Loans', 'Moderate-Estate-Loans', 'High-Estate-Loans', 'Very-High-Estate-Loans']\n",
    "\n",
    "    data['RealEstateLoans'] = np.select(conditions, bin_labels, default='Unknown')\n",
    "    return None\n",
    "\n",
    "NumberRealEstateLoansOrLines(train)\n",
    "NumberRealEstateLoansOrLines(test)"
   ]
  },
  {
   "cell_type": "code",
   "execution_count": 230,
   "metadata": {},
   "outputs": [
    {
     "data": {
      "text/plain": [
       "Low-Estate-Loans          71267\n",
       "No-Estate-Loans           47746\n",
       "Moderate-Estate-Loans      7216\n",
       "High-Estate-Loans          1018\n",
       "Very-High-Estate-Loans      253\n",
       "Name: RealEstateLoans, dtype: int64"
      ]
     },
     "execution_count": 230,
     "metadata": {},
     "output_type": "execute_result"
    }
   ],
   "source": [
    "train['RealEstateLoans'].value_counts()"
   ]
  },
  {
   "cell_type": "markdown",
   "metadata": {},
   "source": [
    "**NumberOfTime60-89DaysPastDueNotWorse**"
   ]
  },
  {
   "cell_type": "code",
   "execution_count": 231,
   "metadata": {},
   "outputs": [
    {
     "data": {
      "text/plain": [
       "0     121056\n",
       "1       4870\n",
       "2        945\n",
       "3        261\n",
       "98       222\n",
       "4         89\n",
       "5         28\n",
       "6         13\n",
       "7          8\n",
       "96         4\n",
       "8          2\n",
       "11         1\n",
       "9          1\n",
       "Name: NumberOfTime60-89DaysPastDueNotWorse, dtype: int64"
      ]
     },
     "execution_count": 231,
     "metadata": {},
     "output_type": "execute_result"
    }
   ],
   "source": [
    "train['NumberOfTime60-89DaysPastDueNotWorse'].value_counts()"
   ]
  },
  {
   "cell_type": "code",
   "execution_count": 232,
   "metadata": {},
   "outputs": [],
   "source": [
    "def NumberOfTime6089DaysPastDueNotWorse(data):\n",
    "    conditions = [\n",
    "        (data['NumberOfTime60-89DaysPastDueNotWorse'] == 0),\n",
    "        (data['NumberOfTime60-89DaysPastDueNotWorse'] >=1) & (data['NumberOfTime60-89DaysPastDueNotWorse'] <=2),\n",
    "        (data['NumberOfTime60-89DaysPastDueNotWorse'] >2) & (data['NumberOfTime60-89DaysPastDueNotWorse'] <=5),\n",
    "        (data['NumberOfTime60-89DaysPastDueNotWorse'] >5)\n",
    "    ]\n",
    "    bin_labels = ['No', 'Rare', 'Ocassional', 'Frequent']\n",
    "\n",
    "    data['60-89DaysLatePayment'] = np.select(conditions, bin_labels, default='Unknown')\n",
    "    return None\n",
    "\n",
    "NumberOfTime6089DaysPastDueNotWorse(train)\n",
    "NumberOfTime6089DaysPastDueNotWorse(test)"
   ]
  },
  {
   "cell_type": "code",
   "execution_count": 233,
   "metadata": {},
   "outputs": [
    {
     "data": {
      "text/plain": [
       "No            121056\n",
       "Rare            5815\n",
       "Ocassional       378\n",
       "Frequent         251\n",
       "Name: 60-89DaysLatePayment, dtype: int64"
      ]
     },
     "execution_count": 233,
     "metadata": {},
     "output_type": "execute_result"
    }
   ],
   "source": [
    "train['60-89DaysLatePayment'].value_counts()"
   ]
  },
  {
   "cell_type": "markdown",
   "metadata": {},
   "source": [
    "**NumberOfDependents**"
   ]
  },
  {
   "cell_type": "code",
   "execution_count": 234,
   "metadata": {},
   "outputs": [
    {
     "data": {
      "text/plain": [
       "0.0     73859\n",
       "1.0     22342\n",
       "2.0     16536\n",
       "3.0      8127\n",
       "4.0      2465\n",
       "5.0       633\n",
       "6.0       135\n",
       "7.0        42\n",
       "8.0        21\n",
       "10.0        5\n",
       "9.0         3\n",
       "13.0        1\n",
       "Name: NumberOfDependents, dtype: int64"
      ]
     },
     "execution_count": 234,
     "metadata": {},
     "output_type": "execute_result"
    }
   ],
   "source": [
    "train['NumberOfDependents'].value_counts()"
   ]
  },
  {
   "cell_type": "code",
   "execution_count": 235,
   "metadata": {},
   "outputs": [],
   "source": [
    "# We have some missing values in no. of dependents. Let's replace it with median values.\n",
    "DependentsMedian = train['NumberOfDependents'].median()\n",
    "\n",
    "train['NumberOfDependents'].fillna(DependentsMedian, inplace=True)\n",
    "test['NumberOfDependents'].fillna(DependentsMedian, inplace=True)"
   ]
  },
  {
   "cell_type": "code",
   "execution_count": 236,
   "metadata": {},
   "outputs": [],
   "source": [
    "def NumberOfDependents(data):\n",
    "    conditions = [\n",
    "        (data['NumberOfDependents'] == 0),\n",
    "        (data['NumberOfDependents'] >0) & (data['NumberOfDependents'] <=2),\n",
    "        (data['NumberOfDependents'] >2) & (data['NumberOfDependents'] <=5),\n",
    "        (data['NumberOfDependents'] >5)\n",
    "    ]\n",
    "    bin_labels = ['No', 'Low', 'Moderate', 'High']\n",
    "\n",
    "    data['Dependents'] = np.select(conditions, bin_labels, default='Unknown')\n",
    "    return None\n",
    "\n",
    "NumberOfDependents(train)\n",
    "NumberOfDependents(test)"
   ]
  },
  {
   "cell_type": "code",
   "execution_count": 237,
   "metadata": {},
   "outputs": [
    {
     "data": {
      "text/plain": [
       "No          77190\n",
       "Low         38878\n",
       "Moderate    11225\n",
       "High          207\n",
       "Name: Dependents, dtype: int64"
      ]
     },
     "execution_count": 237,
     "metadata": {},
     "output_type": "execute_result"
    }
   ],
   "source": [
    "train['Dependents'].value_counts()"
   ]
  },
  {
   "cell_type": "markdown",
   "metadata": {},
   "source": [
    "Our categorisation is complete."
   ]
  },
  {
   "cell_type": "markdown",
   "metadata": {},
   "source": [
    "## Feature Selection"
   ]
  },
  {
   "cell_type": "code",
   "execution_count": 238,
   "metadata": {},
   "outputs": [
    {
     "data": {
      "text/plain": [
       "Index(['SeriousDlqin2yrs', 'RevolvingUtilizationOfUnsecuredLines', 'age',\n",
       "       'NumberOfTime30-59DaysPastDueNotWorse', 'DebtRatio', 'MonthlyIncome',\n",
       "       'NumberOfOpenCreditLinesAndLoans', 'NumberOfTimes90DaysLate',\n",
       "       'NumberRealEstateLoansOrLines', 'NumberOfTime60-89DaysPastDueNotWorse',\n",
       "       'NumberOfDependents', 'CreditUtility', 'Age', '30-59DaysLatePayment',\n",
       "       'Debt', 'Monthly-Income', 'OpenCreditLines', '90DaysLatePayment',\n",
       "       'RealEstateLoans', '60-89DaysLatePayment', 'Dependents'],\n",
       "      dtype='object')"
      ]
     },
     "execution_count": 238,
     "metadata": {},
     "output_type": "execute_result"
    }
   ],
   "source": [
    "train.columns"
   ]
  },
  {
   "cell_type": "code",
   "execution_count": 239,
   "metadata": {},
   "outputs": [],
   "source": [
    "category_columns = ['SeriousDlqin2yrs', 'CreditUtility', 'Age', '30-59DaysLatePayment', 'Debt', 'Monthly-Income', \n",
    "                    'OpenCreditLines', '90DaysLatePayment', 'RealEstateLoans', '60-89DaysLatePayment', 'Dependents']"
   ]
  },
  {
   "cell_type": "code",
   "execution_count": 240,
   "metadata": {},
   "outputs": [],
   "source": [
    "train = train[category_columns]\n",
    "test = test[category_columns]"
   ]
  },
  {
   "cell_type": "code",
   "execution_count": 241,
   "metadata": {},
   "outputs": [
    {
     "name": "stdout",
     "output_type": "stream",
     "text": [
      "(127500, 11) (22500, 11)\n"
     ]
    }
   ],
   "source": [
    "print(train.shape, test.shape)"
   ]
  },
  {
   "cell_type": "code",
   "execution_count": 242,
   "metadata": {},
   "outputs": [
    {
     "data": {
      "text/plain": [
       "0    118945\n",
       "1      8555\n",
       "Name: SeriousDlqin2yrs, dtype: int64"
      ]
     },
     "execution_count": 242,
     "metadata": {},
     "output_type": "execute_result"
    }
   ],
   "source": [
    "train['SeriousDlqin2yrs'].value_counts()"
   ]
  },
  {
   "cell_type": "markdown",
   "metadata": {},
   "source": [
    "We need to convert these categories in number. Although label encoder and one hot encoder are there but we won't be using it in this use case.<br>\n",
    "For Credit Risk, we have another way of doing this."
   ]
  },
  {
   "cell_type": "markdown",
   "metadata": {},
   "source": [
    "#### <u>**Weight of Evidence (WoE) and Information Value (IV)**<u>"
   ]
  },
  {
   "cell_type": "markdown",
   "metadata": {},
   "source": [
    "Weight of Evidence (WoE) can be used to understand the predictive power of an independent variable. WoE helps to understand if a particular class of an independent variable has a higher distribution of good or bad. In our case, 1: Bad Customer & 0: Good Customer<br>\n",
    "Before this we need to clarify what non-events and events are wrt credits:\n",
    "- A non-event is typically labelled to the good customers.\n",
    "- A event is referred for bad customer. We want to address the events to identify the bad customers.\n",
    "\n",
    "**WoE = ln((% of non-events)/(% of events))**<br>\n",
    "A +ve WoE conclude that there are more good cases than bad for that particular category, and for -ve, vice-versa.<br>\n",
    "<br>\n",
    "Information value (IV) is one of the most useful technique to select important variables in a predictive model. It helps to rank variables on the basis of their importance.<br>\n",
    "**IV = ∑ (% of non-events - % of events) * WoE**<br>\n",
    "The more the IV, the more it is useful to predict the target."
   ]
  },
  {
   "cell_type": "code",
   "execution_count": 244,
   "metadata": {},
   "outputs": [],
   "source": [
    "def get_woe_values(woe_dict, iv_dict, feature, target='SeriousDlqin2yrs'):\n",
    "    df_woe_iv = (pd.crosstab(train[feature], train[target], normalize='columns')\n",
    "                 .assign(woe=lambda x: np.log(x[0] / x[1]))\n",
    "                 .assign(iv=lambda x: np.sum(x['woe']*(x[0]-x[1]))))\n",
    "    \n",
    "    woe_dict[feature] = dict(df_woe_iv['woe'])\n",
    "    iv_dict[feature] = df_woe_iv['iv'][0]\n",
    "    return woe_dict, iv_dict"
   ]
  },
  {
   "cell_type": "code",
   "execution_count": 245,
   "metadata": {},
   "outputs": [
    {
     "data": {
      "text/plain": [
       "Index(['CreditUtility', 'Age', '30-59DaysLatePayment', 'Debt',\n",
       "       'Monthly-Income', 'OpenCreditLines', '90DaysLatePayment',\n",
       "       'RealEstateLoans', '60-89DaysLatePayment', 'Dependents'],\n",
       "      dtype='object')"
      ]
     },
     "execution_count": 245,
     "metadata": {},
     "output_type": "execute_result"
    }
   ],
   "source": [
    "features = train.columns[1:]\n",
    "features"
   ]
  },
  {
   "cell_type": "code",
   "execution_count": 246,
   "metadata": {},
   "outputs": [
    {
     "name": "stdout",
     "output_type": "stream",
     "text": [
      "CreditUtility done!\n",
      "Age done!\n",
      "30-59DaysLatePayment done!\n",
      "Debt done!\n",
      "Monthly-Income done!\n",
      "OpenCreditLines done!\n",
      "90DaysLatePayment done!\n",
      "RealEstateLoans done!\n",
      "60-89DaysLatePayment done!\n",
      "Dependents done!\n"
     ]
    }
   ],
   "source": [
    "woe_dict = {}\n",
    "iv_dict = {}\n",
    "\n",
    "for feature in features:\n",
    "    woe_dict, iv_dict = get_woe_values(woe_dict, iv_dict, feature)\n",
    "    print(f'{feature} done!')"
   ]
  },
  {
   "cell_type": "code",
   "execution_count": 247,
   "metadata": {},
   "outputs": [
    {
     "data": {
      "text/plain": [
       "<BarContainer object of 10 artists>"
      ]
     },
     "execution_count": 247,
     "metadata": {},
     "output_type": "execute_result"
    },
    {
     "data": {
      "image/png": "[encoded data removed]",
      "text/plain": [
       "<Figure size 432x288 with 1 Axes>"
      ]
     },
     "metadata": {
      "needs_background": "light"
     },
     "output_type": "display_data"
    }
   ],
   "source": [
    "iv_dict = dict(sorted(iv_dict.items(), key=lambda item: item[1]))\n",
    "plt.barh(list(iv_dict.keys()), list(iv_dict.values()))"
   ]
  },
  {
   "cell_type": "markdown",
   "metadata": {},
   "source": [
    "We can see that Credit Utility is one of the most influential variable. Although I thought debt and monthly income would be up above, but that is not the case."
   ]
  },
  {
   "cell_type": "code",
   "execution_count": 248,
   "metadata": {},
   "outputs": [],
   "source": [
    "for feature in features:\n",
    "    train[feature] = train[feature].map(woe_dict[feature])"
   ]
  },
  {
   "cell_type": "code",
   "execution_count": 249,
   "metadata": {},
   "outputs": [],
   "source": [
    "for feature in features:\n",
    "    test[feature] = test[feature].map(woe_dict[feature])"
   ]
  },
  {
   "cell_type": "code",
   "execution_count": 262,
   "metadata": {},
   "outputs": [],
   "source": [
    "from sklearn.preprocessing import MinMaxScaler\n",
    "\n",
    "scaler = MinMaxScaler()\n",
    "\n",
    "train[features] = scaler.fit_transform(train[features])\n",
    "test[features] = scaler.transform(test[features])"
   ]
  },
  {
   "cell_type": "code",
   "execution_count": 263,
   "metadata": {},
   "outputs": [
    {
     "data": {
      "text/html": [
       "<div>\n",
       "<style scoped>\n",
       "    .dataframe tbody tr th:only-of-type {\n",
       "        vertical-align: middle;\n",
       "    }\n",
       "\n",
       "    .dataframe tbody tr th {\n",
       "        vertical-align: top;\n",
       "    }\n",
       "\n",
       "    .dataframe thead th {\n",
       "        text-align: right;\n",
       "    }\n",
       "</style>\n",
       "<table border=\"1\" class=\"dataframe\">\n",
       "  <thead>\n",
       "    <tr style=\"text-align: right;\">\n",
       "      <th></th>\n",
       "      <th>SeriousDlqin2yrs</th>\n",
       "      <th>CreditUtility</th>\n",
       "      <th>Age</th>\n",
       "      <th>30-59DaysLatePayment</th>\n",
       "      <th>Debt</th>\n",
       "      <th>Monthly-Income</th>\n",
       "      <th>OpenCreditLines</th>\n",
       "      <th>90DaysLatePayment</th>\n",
       "      <th>RealEstateLoans</th>\n",
       "      <th>60-89DaysLatePayment</th>\n",
       "      <th>Dependents</th>\n",
       "    </tr>\n",
       "  </thead>\n",
       "  <tbody>\n",
       "    <tr>\n",
       "      <th>135021</th>\n",
       "      <td>0</td>\n",
       "      <td>1.0</td>\n",
       "      <td>0.209404</td>\n",
       "      <td>1.000000</td>\n",
       "      <td>0.612473</td>\n",
       "      <td>0.491599</td>\n",
       "      <td>0.787668</td>\n",
       "      <td>1.0</td>\n",
       "      <td>1.000000</td>\n",
       "      <td>1.000000</td>\n",
       "      <td>1.000000</td>\n",
       "    </tr>\n",
       "    <tr>\n",
       "      <th>144277</th>\n",
       "      <td>0</td>\n",
       "      <td>1.0</td>\n",
       "      <td>0.724462</td>\n",
       "      <td>1.000000</td>\n",
       "      <td>1.000000</td>\n",
       "      <td>0.000000</td>\n",
       "      <td>1.000000</td>\n",
       "      <td>1.0</td>\n",
       "      <td>0.658441</td>\n",
       "      <td>1.000000</td>\n",
       "      <td>1.000000</td>\n",
       "    </tr>\n",
       "    <tr>\n",
       "      <th>141818</th>\n",
       "      <td>0</td>\n",
       "      <td>1.0</td>\n",
       "      <td>0.398567</td>\n",
       "      <td>1.000000</td>\n",
       "      <td>0.612473</td>\n",
       "      <td>0.491599</td>\n",
       "      <td>0.862336</td>\n",
       "      <td>1.0</td>\n",
       "      <td>0.000000</td>\n",
       "      <td>1.000000</td>\n",
       "      <td>1.000000</td>\n",
       "    </tr>\n",
       "    <tr>\n",
       "      <th>34212</th>\n",
       "      <td>0</td>\n",
       "      <td>1.0</td>\n",
       "      <td>0.101443</td>\n",
       "      <td>1.000000</td>\n",
       "      <td>0.000000</td>\n",
       "      <td>0.000000</td>\n",
       "      <td>0.787668</td>\n",
       "      <td>1.0</td>\n",
       "      <td>1.000000</td>\n",
       "      <td>1.000000</td>\n",
       "      <td>1.000000</td>\n",
       "    </tr>\n",
       "    <tr>\n",
       "      <th>126068</th>\n",
       "      <td>0</td>\n",
       "      <td>1.0</td>\n",
       "      <td>0.209404</td>\n",
       "      <td>0.518855</td>\n",
       "      <td>1.000000</td>\n",
       "      <td>0.491599</td>\n",
       "      <td>0.787668</td>\n",
       "      <td>1.0</td>\n",
       "      <td>0.658441</td>\n",
       "      <td>0.287214</td>\n",
       "      <td>0.321516</td>\n",
       "    </tr>\n",
       "    <tr>\n",
       "      <th>...</th>\n",
       "      <td>...</td>\n",
       "      <td>...</td>\n",
       "      <td>...</td>\n",
       "      <td>...</td>\n",
       "      <td>...</td>\n",
       "      <td>...</td>\n",
       "      <td>...</td>\n",
       "      <td>...</td>\n",
       "      <td>...</td>\n",
       "      <td>...</td>\n",
       "      <td>...</td>\n",
       "    </tr>\n",
       "    <tr>\n",
       "      <th>119880</th>\n",
       "      <td>0</td>\n",
       "      <td>1.0</td>\n",
       "      <td>1.000000</td>\n",
       "      <td>1.000000</td>\n",
       "      <td>0.000000</td>\n",
       "      <td>0.000000</td>\n",
       "      <td>0.772660</td>\n",
       "      <td>1.0</td>\n",
       "      <td>1.000000</td>\n",
       "      <td>1.000000</td>\n",
       "      <td>0.576829</td>\n",
       "    </tr>\n",
       "    <tr>\n",
       "      <th>103695</th>\n",
       "      <td>0</td>\n",
       "      <td>1.0</td>\n",
       "      <td>0.724462</td>\n",
       "      <td>0.518855</td>\n",
       "      <td>0.612473</td>\n",
       "      <td>0.491599</td>\n",
       "      <td>1.000000</td>\n",
       "      <td>1.0</td>\n",
       "      <td>1.000000</td>\n",
       "      <td>1.000000</td>\n",
       "      <td>0.576829</td>\n",
       "    </tr>\n",
       "    <tr>\n",
       "      <th>131933</th>\n",
       "      <td>0</td>\n",
       "      <td>1.0</td>\n",
       "      <td>0.209404</td>\n",
       "      <td>1.000000</td>\n",
       "      <td>0.000000</td>\n",
       "      <td>0.000000</td>\n",
       "      <td>1.000000</td>\n",
       "      <td>1.0</td>\n",
       "      <td>1.000000</td>\n",
       "      <td>1.000000</td>\n",
       "      <td>1.000000</td>\n",
       "    </tr>\n",
       "    <tr>\n",
       "      <th>146868</th>\n",
       "      <td>0</td>\n",
       "      <td>1.0</td>\n",
       "      <td>0.101443</td>\n",
       "      <td>1.000000</td>\n",
       "      <td>1.000000</td>\n",
       "      <td>0.000000</td>\n",
       "      <td>0.000000</td>\n",
       "      <td>1.0</td>\n",
       "      <td>0.658441</td>\n",
       "      <td>1.000000</td>\n",
       "      <td>1.000000</td>\n",
       "    </tr>\n",
       "    <tr>\n",
       "      <th>121959</th>\n",
       "      <td>0</td>\n",
       "      <td>1.0</td>\n",
       "      <td>0.724462</td>\n",
       "      <td>0.518855</td>\n",
       "      <td>1.000000</td>\n",
       "      <td>0.705646</td>\n",
       "      <td>0.787668</td>\n",
       "      <td>1.0</td>\n",
       "      <td>0.658441</td>\n",
       "      <td>0.287214</td>\n",
       "      <td>1.000000</td>\n",
       "    </tr>\n",
       "  </tbody>\n",
       "</table>\n",
       "<p>127500 rows × 11 columns</p>\n",
       "</div>"
      ],
      "text/plain": [
       "        SeriousDlqin2yrs  CreditUtility       Age  30-59DaysLatePayment  \\\n",
       "135021                 0            1.0  0.209404              1.000000   \n",
       "144277                 0            1.0  0.724462              1.000000   \n",
       "141818                 0            1.0  0.398567              1.000000   \n",
       "34212                  0            1.0  0.101443              1.000000   \n",
       "126068                 0            1.0  0.209404              0.518855   \n",
       "...                  ...            ...       ...                   ...   \n",
       "119880                 0            1.0  1.000000              1.000000   \n",
       "103695                 0            1.0  0.724462              0.518855   \n",
       "131933                 0            1.0  0.209404              1.000000   \n",
       "146868                 0            1.0  0.101443              1.000000   \n",
       "121959                 0            1.0  0.724462              0.518855   \n",
       "\n",
       "            Debt  Monthly-Income  OpenCreditLines  90DaysLatePayment  \\\n",
       "135021  0.612473        0.491599         0.787668                1.0   \n",
       "144277  1.000000        0.000000         1.000000                1.0   \n",
       "141818  0.612473        0.491599         0.862336                1.0   \n",
       "34212   0.000000        0.000000         0.787668                1.0   \n",
       "126068  1.000000        0.491599         0.787668                1.0   \n",
       "...          ...             ...              ...                ...   \n",
       "119880  0.000000        0.000000         0.772660                1.0   \n",
       "103695  0.612473        0.491599         1.000000                1.0   \n",
       "131933  0.000000        0.000000         1.000000                1.0   \n",
       "146868  1.000000        0.000000         0.000000                1.0   \n",
       "121959  1.000000        0.705646         0.787668                1.0   \n",
       "\n",
       "        RealEstateLoans  60-89DaysLatePayment  Dependents  \n",
       "135021         1.000000              1.000000    1.000000  \n",
       "144277         0.658441              1.000000    1.000000  \n",
       "141818         0.000000              1.000000    1.000000  \n",
       "34212          1.000000              1.000000    1.000000  \n",
       "126068         0.658441              0.287214    0.321516  \n",
       "...                 ...                   ...         ...  \n",
       "119880         1.000000              1.000000    0.576829  \n",
       "103695         1.000000              1.000000    0.576829  \n",
       "131933         1.000000              1.000000    1.000000  \n",
       "146868         0.658441              1.000000    1.000000  \n",
       "121959         0.658441              0.287214    1.000000  \n",
       "\n",
       "[127500 rows x 11 columns]"
      ]
     },
     "execution_count": 263,
     "metadata": {},
     "output_type": "execute_result"
    }
   ],
   "source": [
    "train"
   ]
  },
  {
   "cell_type": "code",
   "execution_count": 264,
   "metadata": {},
   "outputs": [
    {
     "data": {
      "text/html": [
       "<div>\n",
       "<style scoped>\n",
       "    .dataframe tbody tr th:only-of-type {\n",
       "        vertical-align: middle;\n",
       "    }\n",
       "\n",
       "    .dataframe tbody tr th {\n",
       "        vertical-align: top;\n",
       "    }\n",
       "\n",
       "    .dataframe thead th {\n",
       "        text-align: right;\n",
       "    }\n",
       "</style>\n",
       "<table border=\"1\" class=\"dataframe\">\n",
       "  <thead>\n",
       "    <tr style=\"text-align: right;\">\n",
       "      <th></th>\n",
       "      <th>SeriousDlqin2yrs</th>\n",
       "      <th>CreditUtility</th>\n",
       "      <th>Age</th>\n",
       "      <th>30-59DaysLatePayment</th>\n",
       "      <th>Debt</th>\n",
       "      <th>Monthly-Income</th>\n",
       "      <th>OpenCreditLines</th>\n",
       "      <th>90DaysLatePayment</th>\n",
       "      <th>RealEstateLoans</th>\n",
       "      <th>60-89DaysLatePayment</th>\n",
       "      <th>Dependents</th>\n",
       "    </tr>\n",
       "  </thead>\n",
       "  <tbody>\n",
       "    <tr>\n",
       "      <th>59771</th>\n",
       "      <td>0</td>\n",
       "      <td>1.0</td>\n",
       "      <td>0.398567</td>\n",
       "      <td>1.0</td>\n",
       "      <td>1.000000</td>\n",
       "      <td>1.000000</td>\n",
       "      <td>1.000000</td>\n",
       "      <td>1.0</td>\n",
       "      <td>1.000000</td>\n",
       "      <td>1.0</td>\n",
       "      <td>1.000000</td>\n",
       "    </tr>\n",
       "    <tr>\n",
       "      <th>21363</th>\n",
       "      <td>0</td>\n",
       "      <td>1.0</td>\n",
       "      <td>0.398567</td>\n",
       "      <td>1.0</td>\n",
       "      <td>1.000000</td>\n",
       "      <td>0.705646</td>\n",
       "      <td>1.000000</td>\n",
       "      <td>1.0</td>\n",
       "      <td>1.000000</td>\n",
       "      <td>1.0</td>\n",
       "      <td>1.000000</td>\n",
       "    </tr>\n",
       "    <tr>\n",
       "      <th>127325</th>\n",
       "      <td>0</td>\n",
       "      <td>1.0</td>\n",
       "      <td>0.209404</td>\n",
       "      <td>1.0</td>\n",
       "      <td>1.000000</td>\n",
       "      <td>0.491599</td>\n",
       "      <td>1.000000</td>\n",
       "      <td>1.0</td>\n",
       "      <td>1.000000</td>\n",
       "      <td>1.0</td>\n",
       "      <td>0.321516</td>\n",
       "    </tr>\n",
       "    <tr>\n",
       "      <th>140510</th>\n",
       "      <td>0</td>\n",
       "      <td>0.0</td>\n",
       "      <td>0.209404</td>\n",
       "      <td>1.0</td>\n",
       "      <td>1.000000</td>\n",
       "      <td>0.491599</td>\n",
       "      <td>0.787668</td>\n",
       "      <td>1.0</td>\n",
       "      <td>0.658441</td>\n",
       "      <td>1.0</td>\n",
       "      <td>1.000000</td>\n",
       "    </tr>\n",
       "    <tr>\n",
       "      <th>144298</th>\n",
       "      <td>0</td>\n",
       "      <td>0.0</td>\n",
       "      <td>0.209404</td>\n",
       "      <td>1.0</td>\n",
       "      <td>0.612473</td>\n",
       "      <td>0.491599</td>\n",
       "      <td>1.000000</td>\n",
       "      <td>1.0</td>\n",
       "      <td>1.000000</td>\n",
       "      <td>1.0</td>\n",
       "      <td>1.000000</td>\n",
       "    </tr>\n",
       "    <tr>\n",
       "      <th>...</th>\n",
       "      <td>...</td>\n",
       "      <td>...</td>\n",
       "      <td>...</td>\n",
       "      <td>...</td>\n",
       "      <td>...</td>\n",
       "      <td>...</td>\n",
       "      <td>...</td>\n",
       "      <td>...</td>\n",
       "      <td>...</td>\n",
       "      <td>...</td>\n",
       "      <td>...</td>\n",
       "    </tr>\n",
       "    <tr>\n",
       "      <th>149729</th>\n",
       "      <td>0</td>\n",
       "      <td>1.0</td>\n",
       "      <td>0.209404</td>\n",
       "      <td>1.0</td>\n",
       "      <td>0.612473</td>\n",
       "      <td>1.000000</td>\n",
       "      <td>1.000000</td>\n",
       "      <td>1.0</td>\n",
       "      <td>1.000000</td>\n",
       "      <td>1.0</td>\n",
       "      <td>0.576829</td>\n",
       "    </tr>\n",
       "    <tr>\n",
       "      <th>23524</th>\n",
       "      <td>0</td>\n",
       "      <td>1.0</td>\n",
       "      <td>0.209404</td>\n",
       "      <td>1.0</td>\n",
       "      <td>0.000000</td>\n",
       "      <td>0.705646</td>\n",
       "      <td>1.000000</td>\n",
       "      <td>1.0</td>\n",
       "      <td>0.244981</td>\n",
       "      <td>1.0</td>\n",
       "      <td>0.576829</td>\n",
       "    </tr>\n",
       "    <tr>\n",
       "      <th>21679</th>\n",
       "      <td>0</td>\n",
       "      <td>0.0</td>\n",
       "      <td>0.398567</td>\n",
       "      <td>1.0</td>\n",
       "      <td>0.612473</td>\n",
       "      <td>0.000000</td>\n",
       "      <td>1.000000</td>\n",
       "      <td>1.0</td>\n",
       "      <td>1.000000</td>\n",
       "      <td>1.0</td>\n",
       "      <td>1.000000</td>\n",
       "    </tr>\n",
       "    <tr>\n",
       "      <th>15150</th>\n",
       "      <td>0</td>\n",
       "      <td>1.0</td>\n",
       "      <td>0.724462</td>\n",
       "      <td>1.0</td>\n",
       "      <td>0.612473</td>\n",
       "      <td>0.491599</td>\n",
       "      <td>1.000000</td>\n",
       "      <td>1.0</td>\n",
       "      <td>0.775963</td>\n",
       "      <td>1.0</td>\n",
       "      <td>1.000000</td>\n",
       "    </tr>\n",
       "    <tr>\n",
       "      <th>72166</th>\n",
       "      <td>0</td>\n",
       "      <td>1.0</td>\n",
       "      <td>0.101443</td>\n",
       "      <td>1.0</td>\n",
       "      <td>1.000000</td>\n",
       "      <td>0.705646</td>\n",
       "      <td>1.000000</td>\n",
       "      <td>1.0</td>\n",
       "      <td>0.658441</td>\n",
       "      <td>1.0</td>\n",
       "      <td>1.000000</td>\n",
       "    </tr>\n",
       "  </tbody>\n",
       "</table>\n",
       "<p>22500 rows × 11 columns</p>\n",
       "</div>"
      ],
      "text/plain": [
       "        SeriousDlqin2yrs  CreditUtility       Age  30-59DaysLatePayment  \\\n",
       "59771                  0            1.0  0.398567                   1.0   \n",
       "21363                  0            1.0  0.398567                   1.0   \n",
       "127325                 0            1.0  0.209404                   1.0   \n",
       "140510                 0            0.0  0.209404                   1.0   \n",
       "144298                 0            0.0  0.209404                   1.0   \n",
       "...                  ...            ...       ...                   ...   \n",
       "149729                 0            1.0  0.209404                   1.0   \n",
       "23524                  0            1.0  0.209404                   1.0   \n",
       "21679                  0            0.0  0.398567                   1.0   \n",
       "15150                  0            1.0  0.724462                   1.0   \n",
       "72166                  0            1.0  0.101443                   1.0   \n",
       "\n",
       "            Debt  Monthly-Income  OpenCreditLines  90DaysLatePayment  \\\n",
       "59771   1.000000        1.000000         1.000000                1.0   \n",
       "21363   1.000000        0.705646         1.000000                1.0   \n",
       "127325  1.000000        0.491599         1.000000                1.0   \n",
       "140510  1.000000        0.491599         0.787668                1.0   \n",
       "144298  0.612473        0.491599         1.000000                1.0   \n",
       "...          ...             ...              ...                ...   \n",
       "149729  0.612473        1.000000         1.000000                1.0   \n",
       "23524   0.000000        0.705646         1.000000                1.0   \n",
       "21679   0.612473        0.000000         1.000000                1.0   \n",
       "15150   0.612473        0.491599         1.000000                1.0   \n",
       "72166   1.000000        0.705646         1.000000                1.0   \n",
       "\n",
       "        RealEstateLoans  60-89DaysLatePayment  Dependents  \n",
       "59771          1.000000                   1.0    1.000000  \n",
       "21363          1.000000                   1.0    1.000000  \n",
       "127325         1.000000                   1.0    0.321516  \n",
       "140510         0.658441                   1.0    1.000000  \n",
       "144298         1.000000                   1.0    1.000000  \n",
       "...                 ...                   ...         ...  \n",
       "149729         1.000000                   1.0    0.576829  \n",
       "23524          0.244981                   1.0    0.576829  \n",
       "21679          1.000000                   1.0    1.000000  \n",
       "15150          0.775963                   1.0    1.000000  \n",
       "72166          0.658441                   1.0    1.000000  \n",
       "\n",
       "[22500 rows x 11 columns]"
      ]
     },
     "execution_count": 264,
     "metadata": {},
     "output_type": "execute_result"
    }
   ],
   "source": [
    "test"
   ]
  },
  {
   "cell_type": "markdown",
   "metadata": {},
   "source": [
    "Our dataset looks nice and is ready to be fed to the model. Before that let's save all the variables that we'll need for future predictions."
   ]
  },
  {
   "cell_type": "code",
   "execution_count": 265,
   "metadata": {},
   "outputs": [],
   "source": [
    "variables = {\n",
    "    'MonthlyIncomeMedian': MonthlyIncomeMedian,\n",
    "    'DependentsMedian': DependentsMedian,\n",
    "    'WoEDict': woe_dict\n",
    "}"
   ]
  },
  {
   "cell_type": "code",
   "execution_count": 266,
   "metadata": {},
   "outputs": [],
   "source": [
    "with open('saved/variables.obj', 'wb') as fp:\n",
    "    pickle.dump(variables, fp)"
   ]
  },
  {
   "cell_type": "code",
   "execution_count": 277,
   "metadata": {},
   "outputs": [],
   "source": [
    "with open('saved/scaler.obj', 'wb') as fp:\n",
    "    pickle.dump(scaler, fp)"
   ]
  },
  {
   "cell_type": "markdown",
   "metadata": {},
   "source": [
    "## Modelling"
   ]
  },
  {
   "cell_type": "code",
   "execution_count": 267,
   "metadata": {},
   "outputs": [],
   "source": [
    "from sklearn.linear_model import LogisticRegression\n",
    "from xgboost import XGBClassifier\n",
    "from sklearn.metrics import accuracy_score, classification_report, confusion_matrix, roc_curve, roc_auc_score, auc"
   ]
  },
  {
   "cell_type": "code",
   "execution_count": 268,
   "metadata": {},
   "outputs": [],
   "source": [
    "X_train = train[features]\n",
    "y_train = train['SeriousDlqin2yrs']\n",
    "\n",
    "X_test = test[features]\n",
    "y_test = test['SeriousDlqin2yrs']"
   ]
  },
  {
   "cell_type": "code",
   "execution_count": 269,
   "metadata": {},
   "outputs": [
    {
     "name": "stdout",
     "output_type": "stream",
     "text": [
      "(127500, 10) (127500,)\n",
      "(22500, 10) (22500,)\n"
     ]
    }
   ],
   "source": [
    "print(X_train.shape, y_train.shape)\n",
    "print(X_test.shape, y_test.shape)"
   ]
  },
  {
   "cell_type": "markdown",
   "metadata": {},
   "source": [
    "**Logistic Regression**"
   ]
  },
  {
   "cell_type": "code",
   "execution_count": 270,
   "metadata": {},
   "outputs": [],
   "source": [
    "lr = LogisticRegression(class_weight=\"balanced\")\n",
    "lr.fit(X_train, y_train)\n",
    "lr_prob = lr.predict_proba(X_test)[:, 1]"
   ]
  },
  {
   "cell_type": "markdown",
   "metadata": {},
   "source": [
    "**XGB Classifier**"
   ]
  },
  {
   "cell_type": "code",
   "execution_count": 271,
   "metadata": {},
   "outputs": [],
   "source": [
    "xgb = XGBClassifier(scale_pos_weight=np.sum(y_train == 0) / np.sum(y_train == 1))\n",
    "xgb.fit(X_train, y_train)\n",
    "xgb_prob = xgb.predict_proba(X_test)[:, 1]"
   ]
  },
  {
   "cell_type": "code",
   "execution_count": 293,
   "metadata": {},
   "outputs": [
    {
     "data": {
      "image/png": "[encoded data removed]",
      "text/plain": [
       "<Figure size 576x432 with 1 Axes>"
      ]
     },
     "metadata": {
      "needs_background": "light"
     },
     "output_type": "display_data"
    },
    {
     "data": {
      "text/plain": [
       "<Figure size 432x288 with 0 Axes>"
      ]
     },
     "metadata": {},
     "output_type": "display_data"
    }
   ],
   "source": [
    "logistic_fpr, logistic_tpr, logistic_thresholds = roc_curve(y_test, lr_prob)\n",
    "xgb_fpr, xgb_tpr, xgb_thresholds = roc_curve(y_test, xgb_prob)\n",
    "\n",
    "logistic_roc_auc = auc(logistic_fpr, logistic_tpr)\n",
    "xgb_roc_auc = auc(xgb_fpr, xgb_tpr)\n",
    "\n",
    "# Plot ROC curves for both models\n",
    "plt.figure(figsize=(8, 6))\n",
    "plt.plot(logistic_fpr, logistic_tpr, color='darkorange', lw=2, label=f'Logistic Regression (AUC = {logistic_roc_auc:.2f})')\n",
    "plt.plot(xgb_fpr, xgb_tpr, color='blue', lw=2, label=f'XGBoost (AUC = {xgb_roc_auc:.2f})')\n",
    "plt.plot([0, 1], [0, 1], color='navy', lw=2, linestyle='--')\n",
    "plt.xlim([0.0, 1.0])\n",
    "plt.ylim([0.0, 1.05])\n",
    "plt.xlabel('False Positive Rate')\n",
    "plt.ylabel('True Positive Rate')\n",
    "plt.title('Receiver Operating Characteristic (ROC) Curve')\n",
    "plt.legend(loc='lower right')\n",
    "plt.show()\n",
    "plt.draw()\n",
    "plt.savefig('result/roc_auc.jpg', dpi=300)"
   ]
  },
  {
   "cell_type": "code",
   "execution_count": 282,
   "metadata": {},
   "outputs": [
    {
     "name": "stdout",
     "output_type": "stream",
     "text": [
      "Logistic AUC Score: 0.85608\n",
      "XGBoost AUC Score: 0.85133\n"
     ]
    }
   ],
   "source": [
    "print(f'Logistic AUC Score: {logistic_roc_auc:.5f}')\n",
    "print(f'XGBoost AUC Score: {xgb_roc_auc:.5f}')"
   ]
  },
  {
   "cell_type": "code",
   "execution_count": 283,
   "metadata": {},
   "outputs": [],
   "source": [
    "lr_pred = lr.predict(X_test)"
   ]
  },
  {
   "cell_type": "code",
   "execution_count": 284,
   "metadata": {},
   "outputs": [
    {
     "name": "stdout",
     "output_type": "stream",
     "text": [
      "              precision    recall  f1-score   support\n",
      "\n",
      "           0       0.98      0.81      0.89     21029\n",
      "           1       0.22      0.75      0.34      1471\n",
      "\n",
      "    accuracy                           0.81     22500\n",
      "   macro avg       0.60      0.78      0.61     22500\n",
      "weighted avg       0.93      0.81      0.85     22500\n",
      "\n"
     ]
    }
   ],
   "source": [
    "print(classification_report(y_test, lr_pred))"
   ]
  },
  {
   "cell_type": "code",
   "execution_count": 285,
   "metadata": {},
   "outputs": [
    {
     "data": {
      "text/plain": [
       "array([[17064,  3965],\n",
       "       [  373,  1098]], dtype=int64)"
      ]
     },
     "execution_count": 285,
     "metadata": {},
     "output_type": "execute_result"
    }
   ],
   "source": [
    "confusion_matrix(y_test, lr_pred)"
   ]
  },
  {
   "cell_type": "code",
   "execution_count": 288,
   "metadata": {},
   "outputs": [
    {
     "name": "stdout",
     "output_type": "stream",
     "text": [
      "Optimal Threshold: 0.4882909235428589\n"
     ]
    }
   ],
   "source": [
    "optimal_idx = np.argmax(logistic_tpr - logistic_fpr)\n",
    "optimal_threshold = logistic_thresholds[optimal_idx]\n",
    "print(f'Optimal Threshold: {optimal_threshold}')"
   ]
  },
  {
   "cell_type": "code",
   "execution_count": 287,
   "metadata": {},
   "outputs": [],
   "source": [
    "with open('saved/logistic_model.obj', 'wb') as fp:\n",
    "    pickle.dump(lr, fp)"
   ]
  },
  {
   "cell_type": "code",
   "execution_count": 279,
   "metadata": {},
   "outputs": [
    {
     "data": {
      "text/plain": [
       "array([0.        , 0.00063226, 0.00131207, ..., 0.00147415, 0.00104617,\n",
       "       0.        ])"
      ]
     },
     "execution_count": 279,
     "metadata": {},
     "output_type": "execute_result"
    }
   ],
   "source": [
    "logistic_tpr - logistic_fpr"
   ]
  },
  {
   "cell_type": "code",
   "execution_count": null,
   "metadata": {},
   "outputs": [],
   "source": []
  }
 ],
 "metadata": {
  "kernelspec": {
   "display_name": "Python 3",
   "language": "python",
   "name": "python3"
  },
  "language_info": {
   "codemirror_mode": {
    "name": "ipython",
    "version": 3
   },
   "file_extension": ".py",
   "mimetype": "text/x-python",
   "name": "python",
   "nbconvert_exporter": "python",
   "pygments_lexer": "ipython3",
   "version": "3.7.4"
  }
 },
 "nbformat": 4,
 "nbformat_minor": 4
}
